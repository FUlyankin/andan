{
  "cells": [
    {
      "cell_type": "markdown",
      "id": "9074d943",
      "metadata": {
        "id": "9074d943"
      },
      "source": [
        "<center>\n",
        "<img src=\"https://raw.githubusercontent.com/FUlyankin/r_probability/master/end_seminars_2020/sem08/real_expect.png\" width=\"800\">\n",
        "\n",
        "# Андан на экономе: домашнее задание 2\n",
        "</center>\n"
      ]
    },
    {
      "cell_type": "markdown",
      "id": "153348a7",
      "metadata": {
        "id": "153348a7"
      },
      "source": [
        "**ФИО:**\n",
        "\n",
        "**[2 бонусных балла] прикрепите к работе самый крутой мем из своих сохранёнок:**"
      ]
    },
    {
      "cell_type": "markdown",
      "id": "f40dc119",
      "metadata": {
        "id": "f40dc119"
      },
      "source": [
        "## Общая информация\n",
        "\n",
        "__Дата выдачи:__ 27.01.2025\n",
        "\n",
        "__Мягкий дедлайн:__ 23:59MSK 23.02.2025\n",
        "\n",
        "__Жесткий дедлайн:__ 23:59MSK 02.03.2025"
      ]
    },
    {
      "cell_type": "code",
      "source": [
        "import numpy as np\n",
        "import scipy.stats as sts\n",
        "import matplotlib.pyplot as plt\n",
        "import seaborn as sns\n",
        "from tqdm import tqdm"
      ],
      "metadata": {
        "id": "1GrVyAvUkU2k"
      },
      "id": "1GrVyAvUkU2k",
      "execution_count": 1,
      "outputs": []
    },
    {
      "cell_type": "markdown",
      "id": "5147913f",
      "metadata": {
        "id": "5147913f"
      },
      "source": [
        "В этой домашке мы с вами:\n",
        "\n",
        "1. Посмотрим какимы бывают доверительные интервалы для долей\n",
        "2. Вспомним квантильное преобразование и сгенерируем распределение максимума\n",
        "3. Построим метрику плохих показов, происследуем её на смещенность и исправим её"
      ]
    },
    {
      "cell_type": "markdown",
      "id": "ad3cbdbe",
      "metadata": {
        "id": "ad3cbdbe"
      },
      "source": [
        "## Задача 1: Доверительные интервалы для долей (30 баллов)"
      ]
    },
    {
      "cell_type": "markdown",
      "id": "56665b52",
      "metadata": {
        "id": "56665b52"
      },
      "source": [
        "В этой задаче вам предстоит поработать с разными видами доверительных интервалов для долей.\n",
        "\n",
        "Пусть случайные величины $X_1, \\ldots, X_n$ независимы и имеют распределение Бернулли с неизвестным параметром $p$, при этом $\\hat p = \\bar x$.\n",
        "\n",
        "__а) [10 баллов]__ Если воспользоваться ЦПТ, можно построить для неизвестного $p$ доверительный интервал Вальда. На паре мы для этого использовали сходимость\n",
        "\n",
        "$$\n",
        "\\frac{\\hat p - p}{\\sqrt{\\frac{\\hat p (1 - \\hat p)}{n}}} \\to N(0;1),\n",
        "$$\n",
        "\n",
        "а затем решали неравенство\n",
        "$$\n",
        "-z_{cr} \\leq \\frac{\\hat p - p}{\\sqrt{\\frac{\\hat p (1 - \\hat p)}{n}}} \\leq z_{cr}.\n",
        "$$\n",
        "\n",
        "Получалось, что при уровне значимости $\\alpha,$ доверительный интервал\n",
        "\n",
        "$$\n",
        "\\hat p \\pm z_{1 - \\frac{\\alpha}{2}} \\cdot \\sqrt{ \\frac{\\hat p \\cdot (1 - \\hat p)}{n} }\n",
        "$$\n",
        "\n",
        "накрывает неизвестное значение $p$ с вероятностью $1 - \\alpha$.\n",
        "\n",
        "В этом задании мы, с помощью симуляций на компьютере, сравним фактическую вероятность накрытия неизвестного параметра $p$ интервалами Вальда, Вильсона и Агрести—Коулла c номинальной 95\\%-й вероятностью."
      ]
    },
    {
      "cell_type": "markdown",
      "id": "7e52b0e8",
      "metadata": {
        "id": "7e52b0e8"
      },
      "source": [
        "### Сеттинг симуляций:\n",
        "\n",
        "1. Зафиксируем уровень значимости равный $5\\%$\n",
        "2. Будем перебирать $p$ в интервале $(0, 1)$ с шагом в 0.01\n",
        "3. Для каждого p проведем $1000$ симуляций\n",
        "    - генерируем с заданным $p$ выборку размера $n = 10$\n",
        "    - строим доверительный интервал для $p$\n",
        "    - cмотрим попадает ли истинное значение в доверительный интервал\n",
        "4. Оцениваем по симуляциям получившийся уровень значимости (доля случаев, когда доверительный интервал не покрыл $p$).\n",
        "5. Рисуем картинку, где по оси абсцис отложены значения $p$, а по оси ординат полученная оценка уровня значимости. Отдельной пунктирной линией рисуем на картинке $0.05$.\n",
        "\n",
        "Картинка должна получиться примерно такой же как [в этой статье.](https://www.ime.usp.br/~jmsinger/Textos/Castroetal2019.pdf)"
      ]
    },
    {
      "cell_type": "code",
      "execution_count": 2,
      "id": "458f06da",
      "metadata": {
        "id": "458f06da"
      },
      "outputs": [],
      "source": [
        "def ci_wald(p, n_obs=10, alpha=0.05, n=1000):\n",
        "    z = sts.norm().ppf(1 - alpha/2)\n",
        "    x = sts.bernoulli.rvs(p, size=(n, n_obs))\n",
        "    p_hat = x.mean(axis=1)\n",
        "    std_hat = np.sqrt(p_hat * (1 - p_hat) / n_obs)\n",
        "    left = p_hat - z * std_hat\n",
        "    right = p_hat + z * std_hat\n",
        "    error = 1 - np.mean((left < p) & (p < right))\n",
        "    length = np.mean(right - left)\n",
        "    return error, length"
      ]
    },
    {
      "cell_type": "code",
      "execution_count": 3,
      "id": "f4fd7177",
      "metadata": {
        "id": "f4fd7177"
      },
      "outputs": [],
      "source": [
        "# за циклы тут не караем, главное смысл\n",
        "p = np.arange(0, 1.01, 0.01)\n",
        "err_wald, length_wald = np.vectorize(ci_wald)(p)"
      ]
    },
    {
      "cell_type": "code",
      "execution_count": 4,
      "id": "1d221f74",
      "metadata": {
        "colab": {
          "base_uri": "https://localhost:8080/",
          "height": 472
        },
        "id": "1d221f74",
        "outputId": "d300ee87-bf6c-45c8-ab92-f4901fcda516"
      },
      "outputs": [
        {
          "output_type": "display_data",
          "data": {
            "text/plain": [
              "<Figure size 640x480 with 1 Axes>"
            ],
            "image/png": "[encoded data removed]"
          },
          "metadata": {}
        }
      ],
      "source": [
        "plt.plot(p, err_wald)\n",
        "plt.axhline(0.05, color='red', linestyle='dashed')\n",
        "plt.xlabel('Истиная вероятность')\n",
        "plt.ylabel('Ошибка первого рода')\n",
        "plt.title('Доверительный интервал Вальда');"
      ]
    },
    {
      "cell_type": "markdown",
      "id": "eccf78bc",
      "metadata": {
        "id": "eccf78bc"
      },
      "source": [
        "__б) [5 баллов]__ Можно не заменять в дисперсии значения $p$ на $\\hat p$, а вместо этого воспользоваться сходимостью\n",
        "\n",
        "$$\n",
        "\\frac{\\hat p - p}{\\sqrt{\\frac{p (1 - p)}{n}}} \\to N(0;1)\n",
        "$$\n",
        "\n",
        "и решить относительно неизвестного $p$ (о ужас!) квадратное неравенство. Выйдет доверительный интервал Уилсона:\n",
        "\n",
        "$$\n",
        "\\hat p_w \\pm z_{1 - \\frac{\\alpha}{2}} \\cdot \\sqrt{\\frac{u \\hat p (1 - \\hat p) + (1 - u) (1/2)^2 }{n_w}},\n",
        "$$\n",
        "где $\\quad$ $\\hat p_w = u \\hat p + (1 - u) (1/2)$, $\\quad$  $u = \\frac{n}{n + z_{1 - \\frac{\\alpha}{2}}^2}$, $\\quad$ $(1-u) = \\frac{z_{1 - \\frac{\\alpha}{2}}^2}{n + z_{1 - \\frac{\\alpha}{2}}^2}$,  $\\quad$\n",
        "  $n_w = n + z_{1 - \\frac{\\alpha}{2}}^2$.\n",
        "\n",
        "**Необязательно:** с помощью ручки и бумаги убедитесь, что эти формулы верны."
      ]
    },
    {
      "cell_type": "code",
      "execution_count": 5,
      "id": "c93c2208",
      "metadata": {
        "id": "c93c2208"
      },
      "outputs": [],
      "source": [
        "def ci_wilson(p, n_obs=10, alpha=0.05, n=1000):\n",
        "    z = sts.norm().ppf(1 - alpha/2)\n",
        "    x = sts.bernoulli.rvs(p, size=(n, n_obs))\n",
        "\n",
        "    p_hat = x.mean(axis=1)\n",
        "    u = n_obs / (n_obs + z**2)\n",
        "    n_w = n_obs + z**2\n",
        "    p_hat_w = u * p_hat + (1 - u) * 0.5\n",
        "\n",
        "    std_hat = np.sqrt((u * p_hat * (1 - p_hat) + (1 - u) * (0.5 **2 )) / n_w)\n",
        "    left = p_hat_w - z * std_hat\n",
        "    right = p_hat_w + z * std_hat\n",
        "\n",
        "    error = 1 - np.mean((left < p) & (p < right))\n",
        "    length = np.mean(right - left)\n",
        "    return error, length"
      ]
    },
    {
      "cell_type": "markdown",
      "id": "8f07993a",
      "metadata": {
        "id": "8f07993a"
      },
      "source": [
        "Повторите для доверительного интервала Уилсона тот же самый эксперимент и постройте картинку с поведением уровня значимости в зависимости от значений $p$."
      ]
    },
    {
      "cell_type": "code",
      "execution_count": 6,
      "id": "2791a434",
      "metadata": {
        "id": "2791a434"
      },
      "outputs": [],
      "source": [
        "# за циклы тут не караем, главное смысл\n",
        "p = np.arange(0, 1.01, 0.01)\n",
        "err_wilson, length_wilson = np.vectorize(ci_wilson)(p)"
      ]
    },
    {
      "cell_type": "code",
      "execution_count": 7,
      "id": "ad9278f2",
      "metadata": {
        "colab": {
          "base_uri": "https://localhost:8080/",
          "height": 472
        },
        "id": "ad9278f2",
        "outputId": "dac02ea1-0cf9-47a7-f513-a1ccffe6e927"
      },
      "outputs": [
        {
          "output_type": "display_data",
          "data": {
            "text/plain": [
              "<Figure size 640x480 with 1 Axes>"
            ],
            "image/png": "[encoded data removed]"
          },
          "metadata": {}
        }
      ],
      "source": [
        "plt.plot(p, err_wilson)\n",
        "plt.axhline(0.05, color='red', linestyle='dashed')\n",
        "plt.xlabel('Истиная вероятность')\n",
        "plt.ylabel('Ошибка первого рода')\n",
        "plt.title('Доверительный интервал Уилсона');"
      ]
    },
    {
      "cell_type": "markdown",
      "id": "69c95825",
      "metadata": {
        "id": "69c95825"
      },
      "source": [
        "### Блок необязательных заданий\n",
        "\n",
        "> Эти задания вы можете попытаться решить на бумаге сами. Если вам лень это делать, достаточно их прочитать и как следует осмыслить ответы.\n",
        "\n",
        "**Задание 1:**\n",
        "\n",
        "Обозначим центр интервала Вильсона с помощью $\\hat p_w$. С помощью ручки и  бумаги докажите, что центр интервала Вильсона $\\hat p_w$ можно представить как средневзвешенное классической оценки $\\hat p$ и тривиальной оценки $1/2$,\n",
        "\n",
        "$$\n",
        "\\hat p_w = u \\cdot \\hat p + (1 - u) \\cdot (1/2).  \n",
        "$$\n",
        "\n",
        "Найдите веса $u$ и $(1-u)$.\n",
        "\n",
        "**Ответ:**  $u = \\frac{n}{n + z_{cr}^2}$, $\\quad$ $(1-u) = \\frac{z_{cr}^2}{n + z_{cr}^2}$."
      ]
    },
    {
      "cell_type": "markdown",
      "id": "da0b7c72",
      "metadata": {
        "id": "da0b7c72"
      },
      "source": [
        "**Задание 2:**  Докажите, что центр интервала Вильсона $\\hat p_w$ можно проинтерпретировать следующим образом: добавим $f$ вымышленных $1$ и $f$ вымышленных $0$ в выборку и посчитаем классическую оценку вероятности для выборки с вымышленными наблюдениями,\n",
        "\n",
        "$$\n",
        "\\hat p_w = \\frac{\\sum_{i=1}^n Y_i + f}{n + 2 f}.\n",
        "$$\n",
        "\n",
        "Какому целому числу примерно равно $f$ для 95\\%-го доверительного интервала?\n",
        "\n",
        "__Ответ:__\n",
        "\n",
        "$$\n",
        "\\hat p_w = \\frac{\\sum Y_i + z_{cr}^2/2}{n + z_{cr}^2},\n",
        "$$\n",
        "\n",
        "то есть мы добавляем в выборку $f = z_{cr}^2/2$ вымышленных $1$ и столько же вымышленных $0$."
      ]
    },
    {
      "cell_type": "markdown",
      "id": "40641826",
      "metadata": {
        "id": "40641826"
      },
      "source": [
        "**Задание 3:**  Докажите, что интервал Вильсона можно записать в виде\n",
        "\n",
        "$$\n",
        "\\hat p_w \\pm z_{cr} \\cdot \\sqrt{\\frac{u \\cdot \\hat p (1 - \\hat p) + (1 - u) \\cdot (1/2)^2 }{n_w}}.\n",
        "$$\n",
        "\n",
        "Найдите $n_w$, а также веса $u$ и $(1 - u)$.\n",
        "\n",
        "__Ответ:__\n",
        "\n",
        "$\\hat p_w = u \\cdot \\hat p + (1 - u) \\cdot (1/2)$, $\\quad$ $u = \\frac{n}{n + z_{cr}^2}$, $\\quad$  $(1-u) = \\frac{z_{cr}^2}{n + z_{cr}^2}$, $\\quad$ $n_w = n + z_{cr}^2$.\n",
        "\n",
        "Таким образом, интервал Вильсона слегка корректирует число наблюдений и использует в качестве оценки дисперсии $X_i$ средневзвешенное между классической оценкой $\\hat p (1 - \\hat p)$ и тривиальной оценкой $1/4$."
      ]
    },
    {
      "cell_type": "markdown",
      "id": "a4737298",
      "metadata": {
        "id": "a4737298"
      },
      "source": [
        "__в) [5 баллов]__ Доверительный интервал Агрести—Коулла для уровня доверия 95\\% строится следующим образом.\n",
        "В выборку мысленно добавляют два наблюдения равных $1$ и два наблюдений равных $0$,\n",
        "считают оценку доли\n",
        "$$\n",
        "\\hat p_{ac} = \\frac{\\sum_{i=1}^n Y_i + 2}{n + 4},  \n",
        "$$\n",
        "а затем строят классический интервал Вальда, используя $\\hat p_{ac}$ вместо классической $\\hat p$.\n",
        "\n",
        "Повторите для доверительного интервала Агрести—Коулла тот же самый эксперимент и постройте картинку с поведением уровня значимости в зависимости от значений $p$."
      ]
    },
    {
      "cell_type": "code",
      "execution_count": 8,
      "id": "fa20c467",
      "metadata": {
        "id": "fa20c467"
      },
      "outputs": [],
      "source": [
        "def ci_agresty(p, n_obs=10, alpha=0.05, n=1000):\n",
        "    z = sts.norm().ppf(1 - alpha/2)\n",
        "    x = sts.bernoulli.rvs(p, size=(n, n_obs))\n",
        "\n",
        "    p_hat = (x.sum(axis=1) + 2) / (n_obs + 4)\n",
        "    std_hat = np.sqrt(p_hat * (1 - p_hat) / n_obs)\n",
        "    left = p_hat - z * std_hat\n",
        "    right = p_hat + z * std_hat\n",
        "\n",
        "    error = 1 - np.mean((left < p) & (p < right))\n",
        "    length = np.mean(right - left)\n",
        "    return error, length\n",
        "\n",
        "# за циклы тут не караем, главное смысл\n",
        "p = np.arange(0, 1.01, 0.01)\n",
        "err_agresty, length_agresty = np.vectorize(ci_agresty)(p)"
      ]
    },
    {
      "cell_type": "code",
      "execution_count": 9,
      "id": "80733366",
      "metadata": {
        "colab": {
          "base_uri": "https://localhost:8080/",
          "height": 472
        },
        "id": "80733366",
        "outputId": "4358cdbb-bb4b-4dab-91a2-415d30e988c3"
      },
      "outputs": [
        {
          "output_type": "display_data",
          "data": {
            "text/plain": [
              "<Figure size 640x480 with 1 Axes>"
            ],
            "image/png": "[encoded data removed]"
          },
          "metadata": {}
        }
      ],
      "source": [
        "plt.plot(p, err_agresty)\n",
        "plt.axhline(0.05, color='red', linestyle='dashed')\n",
        "plt.xlabel('Истиная вероятность')\n",
        "plt.ylabel('Ошибка первого рода')\n",
        "plt.title('Доверительный интервал Агрести-Коулла');"
      ]
    },
    {
      "cell_type": "markdown",
      "id": "6a918892",
      "metadata": {
        "id": "6a918892"
      },
      "source": [
        "__г) [5 баллов]__ С помощью [метода стабилизации дисперсии](https://youtu.be/JGNwZKwE2h0) для $p$ можно получить следующий доверительный интервал:\n",
        "\n",
        "$$\n",
        "\\sin^2 \\left(\\arcsin \\sqrt{\\hat p} \\pm \\frac{z_{cr}}{2 \\sqrt{n}} \\right).\n",
        "$$\n",
        "\n",
        "Проведите для него тот же самый эксперимент."
      ]
    },
    {
      "cell_type": "code",
      "execution_count": 10,
      "id": "374e07bb",
      "metadata": {
        "colab": {
          "base_uri": "https://localhost:8080/",
          "height": 472
        },
        "id": "374e07bb",
        "outputId": "c1853d33-cb25-4e35-d41f-749f8dfd33e4"
      },
      "outputs": [
        {
          "output_type": "display_data",
          "data": {
            "text/plain": [
              "<Figure size 640x480 with 1 Axes>"
            ],
            "image/png": "[encoded data removed]"
          },
          "metadata": {}
        }
      ],
      "source": [
        "def ci_stab(p, n_obs=10, alpha=0.05, n=1000):\n",
        "    z = sts.norm().ppf(1 - alpha/2)\n",
        "    x = sts.bernoulli.rvs(p, size=(n, n_obs))\n",
        "\n",
        "    p_hat = x.mean(axis=1)\n",
        "    a = (np.sin(np.arcsin(p_hat ** 0.5) - z / 2 / np.sqrt(n_obs))) ** 2\n",
        "    b = (np.sin(np.arcsin(p_hat ** 0.5) + z / 2 / np.sqrt(n_obs))) ** 2\n",
        "\n",
        "    error = 1 - np.mean(((a < p) & (p < b) & (a < b)) | ((b < p) & (p < a) & (b < a)))\n",
        "    length = np.mean(abs(a - b))\n",
        "    return error, length\n",
        "\n",
        "# за циклы тут не караем, главное смысл\n",
        "p = np.arange(0, 1.01, 0.01)\n",
        "err_stab, length_stab = np.vectorize(ci_stab)(p)\n",
        "\n",
        "plt.plot(p, err_stab)\n",
        "plt.axhline(0.05, color='red', linestyle='dashed')\n",
        "plt.xlabel('Истиная вероятность')\n",
        "plt.ylabel('Ошибка первого рода')\n",
        "plt.title('Стабилизация дисперсии');"
      ]
    },
    {
      "cell_type": "markdown",
      "id": "9a0346ff",
      "metadata": {
        "id": "9a0346ff"
      },
      "source": [
        "Всё сразу на одной картинке:"
      ]
    },
    {
      "cell_type": "code",
      "execution_count": 11,
      "id": "c6158ebe",
      "metadata": {
        "colab": {
          "base_uri": "https://localhost:8080/",
          "height": 472
        },
        "id": "c6158ebe",
        "outputId": "9a97a9c1-e522-45b9-b5db-87b11f23335c"
      },
      "outputs": [
        {
          "output_type": "display_data",
          "data": {
            "text/plain": [
              "<Figure size 640x480 with 1 Axes>"
            ],
            "image/png": "[encoded data removed]"
          },
          "metadata": {}
        }
      ],
      "source": [
        "plt.plot(p, err_wald, label='Wald')\n",
        "plt.plot(p, err_wilson, label='Wilson')\n",
        "plt.plot(p, err_agresty, label='Agresty')\n",
        "plt.plot(p, err_stab, label='Stabilization')\n",
        "\n",
        "plt.axhline(0.05, color='red', linestyle='dashed')\n",
        "plt.xlabel('Истиная вероятность')\n",
        "plt.ylabel('Ошибка первого рода')\n",
        "plt.title('Стабильность различных доверительных интервалов')\n",
        "plt.legend();"
      ]
    },
    {
      "cell_type": "code",
      "execution_count": 13,
      "id": "2877c414",
      "metadata": {
        "colab": {
          "base_uri": "https://localhost:8080/",
          "height": 472
        },
        "id": "2877c414",
        "outputId": "468b979f-9b33-437b-d871-7a5b2b5fa60d"
      },
      "outputs": [
        {
          "output_type": "display_data",
          "data": {
            "text/plain": [
              "<Figure size 640x480 with 1 Axes>"
            ],
            "image/png": "[encoded data removed]"
          },
          "metadata": {}
        }
      ],
      "source": [
        "plt.plot(p, length_wald, label='Wald')\n",
        "plt.plot(p, length_wilson, label='Wilson')\n",
        "plt.plot(p, length_agresty, label='Agresty')\n",
        "plt.plot(p, length_stab, label='Stabilization')\n",
        "\n",
        "plt.xlabel('Истиная вероятность')\n",
        "plt.ylabel('Длина интервала')\n",
        "plt.title('Длины различных доверительных интервалов')\n",
        "plt.legend();"
      ]
    },
    {
      "cell_type": "markdown",
      "id": "f5345ae3",
      "metadata": {
        "id": "f5345ae3"
      },
      "source": [
        "__д) [5 баллов]__ Дайте развёрнутый ответ на следующие вопросы.\n",
        "\n",
        "1. Правда ли, что при уровне доверия 95\\% центры интервала Агрести — Коулла и Вильсона совпадают?\n",
        "\n",
        "__Ответ:__ Нет, не совпадают. Для интервала Вильсона центр это $\\frac{p^*n+\\frac{z^2}{2}}{n+z^2}$, а для интервала Агрести-Коулла $\\frac{p^*n+2}{n+4}$. Для уровня доверия 95% это разные (хотя и близкие) числа.\n",
        "\n",
        "2. Какой 95\\%-й интервал шире, Агрести—Коулла или Вильсона?\n",
        "\n",
        "__Ответ:__ Интервал Агрести-Коулла несколько шире за счёт того, что в нём информативность выборки снижается разбавлением фиктивными нулями и единицами.\n",
        "\n",
        "3. Какой 95\\%-й интервал шире, Вальда или основанный на стабилизации дисперсии?\n",
        "\n",
        "__Ответ:__ Интервал Вальда шире.\n",
        "\n",
        "4. Как доверительные интервалы ведут себя на краях? Как они ведут себя в середине?\n",
        "\n",
        "__Ответ:__ Все интервалы разваливаются на краях. В середне всё нормально. Интервал Агрести-Коула за счёт фиктивных наблюдений выдаёт ошибку сильно ниже заявленной, но это достигается за счёт увеличения его ширины.\n",
        "\n",
        "5. Перезапустите код при $n=100$. Насколько драматично изменилась картинка?\n",
        "\n",
        "__Ответ:__ Изменения заметны, особенно в случае со стабилизацией дисперсии - всё стало намного лучше. Другие методы построения интервала тоже показали лучшие результаты, что и немудрено - ЗБЧ гласит, что чем больше наблюдений в выборке, тем ближе их среднее будет к матожиданию, из чего следует, что это матожидание удастся лучше локализовать."
      ]
    },
    {
      "cell_type": "markdown",
      "id": "65d1f498",
      "metadata": {
        "id": "65d1f498"
      },
      "source": [
        "Что почитать:\n",
        "\n",
        "- [Статья Денга про дельта-метод](https://alexdeng.github.io/public/files/kdd2018-dm.pdf)\n",
        "- [Выводим распределение для дисперсии и строим асимптотические доверительные интервалы](https://www.stat.umn.edu/geyer/s06/5102/notes/ci.pdf) (тут же есть про стабилизацию дисперсии и многое другое)\n",
        "- [Доверительный интервал Уилсона](https://www.econometrics.blog/post/the-wilson-confidence-interval-for-a-proportion/)\n",
        "- [Доверительный интервал Агрести-Коула](https://www.econometrics.blog/post/don-t-use-the-textbook-ci-for-a-proportion/)\n",
        "- [Сравниваем разные доверительные интервалы для долей](https://www.ime.usp.br/~jmsinger/Textos/Castroetal2019.pdf)"
      ]
    },
    {
      "cell_type": "markdown",
      "id": "079ba3af",
      "metadata": {
        "id": "079ba3af"
      },
      "source": [
        "## Задача 2: квантильное преобразование (10 баллов)\n",
        "\n",
        "Компьютер хорошо умеет генерировать равномерные случайные величины. Для разных популярных распределений, вроде нормального, люди также смогли придумать хорошие генераторы. Но что делать, если нам хочется научиться генерировать что-то специфическое? В этом людям помогает квантильное преобразование!\n",
        "\n",
        "#### Теорема:\n",
        "\n",
        "Пусть функция распределения $F_X(x)$ непрерывна. Тогда случайная величина $Y = F(X)$ имеет равномерное распределение на отрезке $[0; 1]$.\n",
        "\n",
        "\n",
        "#### Следствие:\n",
        "\n",
        "Пусть $Y \\sim U[0;1]$, а $F(x)$ произвольная функция распределения. Тогда случайная величина $X = F^{-1}(Y)$ будет иметь функцию распределения $F(x)$.\n",
        "\n",
        "\n",
        "#### Что это нам даёт:\n",
        "\n",
        "\n",
        "- Позволяет генерировать из равномерного распределения другие. Достаточно найти обратную функцию и вычислить её значение от каждого элемента в выборке.\n",
        "- Применимо невсегда, напрмер, для нормального распределения используют другие алгоритмы, так как функцию распределения для него невозможно записать аналитически.\n",
        "\n",
        "<center>\n",
        "<img src=\"https://raw.githubusercontent.com/FUlyankin/matstat-AB/main/week05_LLN_CLT/image/quant.png\" height=\"200\">\n",
        "</center>\n",
        "\n",
        "\n",
        "__Полезные видео и код:__\n",
        "\n",
        "- [Видео с объяснением квантильного преобразования](https://www.youtube.com/watch?v=Dxtj-3N22_A&list=PLCf-cQCe1FRyg1ajZ2HJVKknbuTujBOLN&index=9)\n",
        "- [Видео с его использованием в питоне](https://www.youtube.com/watch?v=ivpWyorfWlA&list=PLCf-cQCe1FRyg1ajZ2HJVKknbuTujBOLN&index=10)\n",
        "- [Тетрадка с кодом из видео](https://github.com/FUlyankin/matstat-AB/blob/main/week05_LLN_CLT/09_python_distributions.ipynb)\n",
        "- [Лекция Фила из маги по терверу с подробным разбором квантильного преобразования и выведением функции распределения максимума](https://www.youtube.com/watch?v=vvpRREpe0Bw)\n",
        "- [Выведение функции распределения для максимума в учебнике Черновой](https://tvims.nsu.ru/chernova/tv/lec/node68.html)\n"
      ]
    },
    {
      "cell_type": "markdown",
      "id": "98471f3b",
      "metadata": {
        "id": "98471f3b"
      },
      "source": [
        "Пуcть у нас есть стрёмная функция распределения:\n",
        "\n",
        "$$\n",
        "F(x) = \\left( \\frac{\\ln x}{\\ln \\theta} \\right)^{\\alpha},  \\quad x \\in [1; \\theta]\n",
        "$$\n",
        "\n",
        "__а) [5 баллов]__ Сгенерируйте из него выборку с помощью квантильного преобразования. Параметры $\\alpha$ и $\\theta$ возьмите на свой вкус. Для получившейся выборки постройте гистограмму.\n",
        "\n",
        "\n",
        "$$\n",
        "F^{-1}(y) = exp(y^{\\frac{1}{\\alpha}} \\cdot \\ln \\theta)\n",
        "$$"
      ]
    },
    {
      "cell_type": "code",
      "execution_count": 16,
      "id": "f3ff5d0b",
      "metadata": {
        "colab": {
          "base_uri": "https://localhost:8080/",
          "height": 430
        },
        "id": "f3ff5d0b",
        "outputId": "e5e5c9e2-57cd-49b6-94da-097f42fad971"
      },
      "outputs": [
        {
          "output_type": "display_data",
          "data": {
            "text/plain": [
              "<Figure size 640x480 with 1 Axes>"
            ],
            "image/png": "[encoded data removed]"
          },
          "metadata": {}
        }
      ],
      "source": [
        "alpha = 2.7\n",
        "theta = 3\n",
        "\n",
        "y = sts.uniform().rvs(size=10**6)\n",
        "x = np.exp(y ** (1/alpha) * np.log(theta))\n",
        "\n",
        "plt.hist(x, bins=300);"
      ]
    },
    {
      "cell_type": "markdown",
      "id": "f07c9643",
      "metadata": {
        "id": "f07c9643"
      },
      "source": [
        "__б) [5 баллов]__ Пусть случайные величины $X_1, \\ldots, X_n \\sim U[0;1].$ Пусть $Y_n = max(X_1, \\ldots, X_n).$\n",
        "\n",
        "Мы знаем, что $F_{Y_n}(x) = x^n,$ если $x \\in [0; 1].$\n",
        "\n",
        "Напишите функцию, которая сгенерирует с помощью квантильного преобразования выборку из распределения $F_{Y_n}(t)$."
      ]
    },
    {
      "cell_type": "code",
      "execution_count": 17,
      "id": "0800fbb0",
      "metadata": {
        "colab": {
          "base_uri": "https://localhost:8080/",
          "height": 430
        },
        "id": "0800fbb0",
        "outputId": "83da5cd8-19b4-4b49-fbd6-a9a30bd9be57"
      },
      "outputs": [
        {
          "output_type": "display_data",
          "data": {
            "text/plain": [
              "<Figure size 640x480 with 1 Axes>"
            ],
            "image/png": "[encoded data removed]"
          },
          "metadata": {}
        }
      ],
      "source": [
        "n = 10\n",
        "\n",
        "y = sts.uniform().rvs(size=10**6)\n",
        "x = y ** (1 / n)\n",
        "\n",
        "plt.hist(x, bins=300);"
      ]
    },
    {
      "cell_type": "markdown",
      "id": "6001b408",
      "metadata": {
        "id": "6001b408"
      },
      "source": [
        "## Задача 3: метрика плохих показов (60 баллов)"
      ]
    },
    {
      "cell_type": "markdown",
      "id": "b865a8e8",
      "metadata": {
        "id": "b865a8e8"
      },
      "source": [
        "Мало того, что в интернете постоянно кто-то не прав, так ещё и куча спама, фейков, хейтспича, кликбейта и другого «плохого» контента. Каждая уважающая себя платформа борется с ним. Более того, гиганты вроде Facebook публикуют [transparency-отчёты](https://transparency.fb.com/reports/community-standards-enforcement/) о том, сколько показов «плохого» контента пропустила их система модерации.\n",
        "\n",
        "Давайте представим себе, что мы Youtube. Мы хотим, чтобы пользователям как можно реже показывался «плохой» контент (например, спам или порно).\n",
        "\n",
        "К сожалению, мы не можем сделать ручную разметку всех видео, которые загружают люди. Поток нового видео на платформе постоянно растёт. Нам надо будет поддерживать огромный штат модераторов. Поэтому для каждого нарушения, с помощью машинного обучения, обычно делают классификаторы. Нейросети пытаются предсказать, есть ли в видео неприемлимый контент. Если его вероятность высокая, видео автоматически банится. Если нейросеть не уверена, видео отправляют на разметку модераторам. Если мы обучим хороший классификатор, подавляющая часть потока будет оставаться без модерации.\n",
        "\n",
        "Параллельно с классификатором мы можем начать размечать модераторами жалобы и самые вирусные видосы. Машинное обучение даёт осечки. Какое-то одно «плохое» видео, пропущенное нашей системой, может набрать много показов. Постмодерация самых вирусных видео и жалоб могут нас от этого спасти.\n",
        "\n",
        "Нам хотелось бы понимать, насколько хорошо работает система модерации. Для этого мы будем оценивать долю «плохих» показов. Если мы показываем видео со спамом, такие показы мы считаем плохими.\n",
        "\n",
        "**Наша задача**  —  получить несмещённую оценку доли плохих показов на youtube, а также построить для неё доверительный интервал. Тогда мы будем видеть, с каким нарушением у нас больше всего проблем, а также сможем придумывать для системы модерации разные улучшения и понимать, насколько они эффективны."
      ]
    },
    {
      "cell_type": "markdown",
      "id": "59afac5d",
      "metadata": {
        "id": "59afac5d"
      },
      "source": [
        "#### 1. Данные\n",
        "\n",
        "У нас есть данные о просмотре видео на youtube за сутки. Таблица весьма громадная, так как она содержит несколько миллиардов уникальных видео. Мы хотим выбрать из неё тысячу случайных видео, чтобы модераторы разметили их на спам. При этом, нам нужно учесть частоту просмотров. Популярные видео должны иметь больше шансов попасть в подвыборку. Тогда по этой разметке мы сможем оценить долю плохих показов.\n",
        "\n",
        "|      video                         |            shows                  |\n",
        "|:----------------------------------:|:---------------------------------:|\n",
        "| Baby Shark                         |  13 840 000 000                   |\n",
        "| Despacito                          |   8 340 000 000                   |\n",
        "| Johny Johny Yes Papa               |   6 850 000 000                   |\n",
        "| ........                           |   ........                        |\n",
        "| 1. Андан-2025: симуляции           |   2                               |\n",
        "\n",
        "Давайте посчитаем для каждого видео вероятность, что оно будет показно и сделаем `np.random.choice`, как в коде ниже."
      ]
    },
    {
      "cell_type": "code",
      "execution_count": 18,
      "id": "b2a6b3bd",
      "metadata": {
        "id": "b2a6b3bd"
      },
      "outputs": [],
      "source": [
        "import numpy as np\n",
        "import pandas as pd\n",
        "import scipy.stats as sts"
      ]
    },
    {
      "cell_type": "code",
      "execution_count": 19,
      "id": "1e011d0d",
      "metadata": {
        "colab": {
          "base_uri": "https://localhost:8080/"
        },
        "id": "1e011d0d",
        "outputId": "6d500844-f7c3-4c5c-9059-6d6e3996d3ff"
      },
      "outputs": [
        {
          "output_type": "execute_result",
          "data": {
            "text/plain": [
              "array([6., 2., 2., ..., 2., 7., 4.])"
            ]
          },
          "metadata": {},
          "execution_count": 19
        }
      ],
      "source": [
        "# сгенерируем показы из распределения Парето, чтобы было побольше выбросов как в жизни.\n",
        "n_obs = 10**6\n",
        "\n",
        "b = 0.7\n",
        "rv = sts.pareto(b)\n",
        "shows = np.round(rv.rvs(n_obs))\n",
        "shows # это показы"
      ]
    },
    {
      "cell_type": "code",
      "execution_count": 20,
      "id": "cc932538",
      "metadata": {
        "colab": {
          "base_uri": "https://localhost:8080/"
        },
        "id": "cc932538",
        "outputId": "84e226c4-7cf0-49ec-9a00-d2d6d77fb4da"
      },
      "outputs": [
        {
          "output_type": "execute_result",
          "data": {
            "text/plain": [
              "array([      1,       2,       3, ...,  999998,  999999, 1000000])"
            ]
          },
          "metadata": {},
          "execution_count": 20
        }
      ],
      "source": [
        "videos = np.arange(1, n_obs + 1) # это id видео\n",
        "videos"
      ]
    },
    {
      "cell_type": "code",
      "execution_count": 21,
      "id": "89f6421c",
      "metadata": {
        "colab": {
          "base_uri": "https://localhost:8080/"
        },
        "id": "89f6421c",
        "outputId": "7509e0b7-6340-403e-a223-dafbc1f5da57"
      },
      "outputs": [
        {
          "output_type": "execute_result",
          "data": {
            "text/plain": [
              "array([8.75500571e-09, 2.91833524e-09, 2.91833524e-09, ...,\n",
              "       2.91833524e-09, 1.02141733e-08, 5.83667047e-09])"
            ]
          },
          "metadata": {},
          "execution_count": 21
        }
      ],
      "source": [
        "p = shows / shows.sum() # это вероятность того что видео будет показано\n",
        "p"
      ]
    },
    {
      "cell_type": "code",
      "execution_count": 22,
      "id": "21db5060",
      "metadata": {
        "colab": {
          "base_uri": "https://localhost:8080/"
        },
        "id": "21db5060",
        "outputId": "705cfbd3-21c1-42f8-ed58-d3e956c981bc"
      },
      "outputs": [
        {
          "output_type": "execute_result",
          "data": {
            "text/plain": [
              "array([917219, 694410, 962144, 144716, 734806, 785112, 476674, 666266,\n",
              "       517573,  16289, 876974, 406337, 661690, 833025, 436002, 263408,\n",
              "       524803, 953715, 932150, 307005, 803203, 666436,  83065, 416435,\n",
              "       863990, 207670, 844241, 726555, 666580,  51233, 470317, 383304,\n",
              "       795961, 379074, 564868,  10245, 926006, 685269,  33084, 169886,\n",
              "       889099, 378361, 792590, 179943, 711625, 790650, 481057, 451993,\n",
              "       423796, 704286, 417056, 114531, 752745, 903871, 920994, 711888,\n",
              "       571732, 214458, 804972, 138785, 338729, 244575, 452317, 413317,\n",
              "       500686, 437213, 193869, 794870, 866062, 820493,  81617, 997557,\n",
              "       814900, 995506, 875866, 881749, 211092, 347932, 614159, 410263,\n",
              "       958300,  98350,  55711, 132725, 913089, 536504, 158524, 491018,\n",
              "       425666, 807435,  88716, 661061, 718550, 833759, 767856, 991672,\n",
              "        80081, 255568, 345129, 321217])"
            ]
          },
          "metadata": {},
          "execution_count": 22
        }
      ],
      "source": [
        "# генерируем выборку без повторений из 100 видео с учётом показов (более частые видео попадут в выборку вероятнее)\n",
        "k = 100\n",
        "np.random.choice(videos, size=k, replace=False, p = p)"
      ]
    },
    {
      "cell_type": "markdown",
      "id": "021deaf1",
      "metadata": {
        "id": "021deaf1"
      },
      "source": [
        "У такого подхода есть проблема. Если в таблице миллиарды строк, мы не сможем сохранить таблицу в оперативную память. Нам для генерации выборки понадобится супер-компьютер. Хотелось бы этого избежать. К счастью, для решения этой проблемы есть [много алгоритмов,](https://en.wikipedia.org/wiki/Reservoir_sampling) и мы с вами реализуем один из них."
      ]
    },
    {
      "cell_type": "markdown",
      "id": "6ea21d10",
      "metadata": {
        "id": "6ea21d10"
      },
      "source": [
        "#### 2. Сэмплирование с повторениями\n",
        "\n",
        "Для начала поработаем с сэмплированием с повторениями. Сгенерируем таблицу с данными.\n",
        "\n"
      ]
    },
    {
      "cell_type": "code",
      "execution_count": 23,
      "id": "9387a096",
      "metadata": {
        "colab": {
          "base_uri": "https://localhost:8080/",
          "height": 223
        },
        "id": "9387a096",
        "outputId": "3068d3a6-6b03-4612-f0be-3e36b6e384b1"
      },
      "outputs": [
        {
          "output_type": "stream",
          "name": "stdout",
          "text": [
            "(100000, 3)\n"
          ]
        },
        {
          "output_type": "execute_result",
          "data": {
            "text/plain": [
              "   video_id  shows  is_spam\n",
              "0         1    2.0        0\n",
              "1         2   74.0        0\n",
              "2         3    7.0        0\n",
              "3         4    4.0        0\n",
              "4         5    1.0        0"
            ],
            "text/html": [
              "\n",
              "  <div id=\"df-fbbf3d68-0dc2-4cf0-9c43-d8b93a0a38d0\" class=\"colab-df-container\">\n",
              "    <div>\n",
              "<style scoped>\n",
              "    .dataframe tbody tr th:only-of-type {\n",
              "        vertical-align: middle;\n",
              "    }\n",
              "\n",
              "    .dataframe tbody tr th {\n",
              "        vertical-align: top;\n",
              "    }\n",
              "\n",
              "    .dataframe thead th {\n",
              "        text-align: right;\n",
              "    }\n",
              "</style>\n",
              "<table border=\"1\" class=\"dataframe\">\n",
              "  <thead>\n",
              "    <tr style=\"text-align: right;\">\n",
              "      <th></th>\n",
              "      <th>video_id</th>\n",
              "      <th>shows</th>\n",
              "      <th>is_spam</th>\n",
              "    </tr>\n",
              "  </thead>\n",
              "  <tbody>\n",
              "    <tr>\n",
              "      <th>0</th>\n",
              "      <td>1</td>\n",
              "      <td>2.0</td>\n",
              "      <td>0</td>\n",
              "    </tr>\n",
              "    <tr>\n",
              "      <th>1</th>\n",
              "      <td>2</td>\n",
              "      <td>74.0</td>\n",
              "      <td>0</td>\n",
              "    </tr>\n",
              "    <tr>\n",
              "      <th>2</th>\n",
              "      <td>3</td>\n",
              "      <td>7.0</td>\n",
              "      <td>0</td>\n",
              "    </tr>\n",
              "    <tr>\n",
              "      <th>3</th>\n",
              "      <td>4</td>\n",
              "      <td>4.0</td>\n",
              "      <td>0</td>\n",
              "    </tr>\n",
              "    <tr>\n",
              "      <th>4</th>\n",
              "      <td>5</td>\n",
              "      <td>1.0</td>\n",
              "      <td>0</td>\n",
              "    </tr>\n",
              "  </tbody>\n",
              "</table>\n",
              "</div>\n",
              "    <div class=\"colab-df-buttons\">\n",
              "\n",
              "  <div class=\"colab-df-container\">\n",
              "    <button class=\"colab-df-convert\" onclick=\"convertToInteractive('df-fbbf3d68-0dc2-4cf0-9c43-d8b93a0a38d0')\"\n",
              "            title=\"Convert this dataframe to an interactive table.\"\n",
              "            style=\"display:none;\">\n",
              "\n",
              "  <svg xmlns=\"http://www.w3.org/2000/svg\" height=\"24px\" viewBox=\"0 -960 960 960\">\n",
              "    <path d=\"M120-120v-720h720v720H120Zm60-500h600v-160H180v160Zm220 220h160v-160H400v160Zm0 220h160v-160H400v160ZM180-400h160v-160H180v160Zm440 0h160v-160H620v160ZM180-180h160v-160H180v160Zm440 0h160v-160H620v160Z\"/>\n",
              "  </svg>\n",
              "    </button>\n",
              "\n",
              "  <style>\n",
              "    .colab-df-container {\n",
              "      display:flex;\n",
              "      gap: 12px;\n",
              "    }\n",
              "\n",
              "    .colab-df-convert {\n",
              "      background-color: #E8F0FE;\n",
              "      border: none;\n",
              "      border-radius: 50%;\n",
              "      cursor: pointer;\n",
              "      display: none;\n",
              "      fill: #1967D2;\n",
              "      height: 32px;\n",
              "      padding: 0 0 0 0;\n",
              "      width: 32px;\n",
              "    }\n",
              "\n",
              "    .colab-df-convert:hover {\n",
              "      background-color: #E2EBFA;\n",
              "      box-shadow: 0px 1px 2px rgba(60, 64, 67, 0.3), 0px 1px 3px 1px rgba(60, 64, 67, 0.15);\n",
              "      fill: #174EA6;\n",
              "    }\n",
              "\n",
              "    .colab-df-buttons div {\n",
              "      margin-bottom: 4px;\n",
              "    }\n",
              "\n",
              "    [theme=dark] .colab-df-convert {\n",
              "      background-color: #3B4455;\n",
              "      fill: #D2E3FC;\n",
              "    }\n",
              "\n",
              "    [theme=dark] .colab-df-convert:hover {\n",
              "      background-color: #434B5C;\n",
              "      box-shadow: 0px 1px 3px 1px rgba(0, 0, 0, 0.15);\n",
              "      filter: drop-shadow(0px 1px 2px rgba(0, 0, 0, 0.3));\n",
              "      fill: #FFFFFF;\n",
              "    }\n",
              "  </style>\n",
              "\n",
              "    <script>\n",
              "      const buttonEl =\n",
              "        document.querySelector('#df-fbbf3d68-0dc2-4cf0-9c43-d8b93a0a38d0 button.colab-df-convert');\n",
              "      buttonEl.style.display =\n",
              "        google.colab.kernel.accessAllowed ? 'block' : 'none';\n",
              "\n",
              "      async function convertToInteractive(key) {\n",
              "        const element = document.querySelector('#df-fbbf3d68-0dc2-4cf0-9c43-d8b93a0a38d0');\n",
              "        const dataTable =\n",
              "          await google.colab.kernel.invokeFunction('convertToInteractive',\n",
              "                                                    [key], {});\n",
              "        if (!dataTable) return;\n",
              "\n",
              "        const docLinkHtml = 'Like what you see? Visit the ' +\n",
              "          '<a target=\"_blank\" href=https://colab.research.google.com/notebooks/data_table.ipynb>data table notebook</a>'\n",
              "          + ' to learn more about interactive tables.';\n",
              "        element.innerHTML = '';\n",
              "        dataTable['output_type'] = 'display_data';\n",
              "        await google.colab.output.renderOutput(dataTable, element);\n",
              "        const docLink = document.createElement('div');\n",
              "        docLink.innerHTML = docLinkHtml;\n",
              "        element.appendChild(docLink);\n",
              "      }\n",
              "    </script>\n",
              "  </div>\n",
              "\n",
              "\n",
              "<div id=\"df-0f8f4dc9-b14f-467d-b5a2-94b784848575\">\n",
              "  <button class=\"colab-df-quickchart\" onclick=\"quickchart('df-0f8f4dc9-b14f-467d-b5a2-94b784848575')\"\n",
              "            title=\"Suggest charts\"\n",
              "            style=\"display:none;\">\n",
              "\n",
              "<svg xmlns=\"http://www.w3.org/2000/svg\" height=\"24px\"viewBox=\"0 0 24 24\"\n",
              "     width=\"24px\">\n",
              "    <g>\n",
              "        <path d=\"M19 3H5c-1.1 0-2 .9-2 2v14c0 1.1.9 2 2 2h14c1.1 0 2-.9 2-2V5c0-1.1-.9-2-2-2zM9 17H7v-7h2v7zm4 0h-2V7h2v10zm4 0h-2v-4h2v4z\"/>\n",
              "    </g>\n",
              "</svg>\n",
              "  </button>\n",
              "\n",
              "<style>\n",
              "  .colab-df-quickchart {\n",
              "      --bg-color: #E8F0FE;\n",
              "      --fill-color: #1967D2;\n",
              "      --hover-bg-color: #E2EBFA;\n",
              "      --hover-fill-color: #174EA6;\n",
              "      --disabled-fill-color: #AAA;\n",
              "      --disabled-bg-color: #DDD;\n",
              "  }\n",
              "\n",
              "  [theme=dark] .colab-df-quickchart {\n",
              "      --bg-color: #3B4455;\n",
              "      --fill-color: #D2E3FC;\n",
              "      --hover-bg-color: #434B5C;\n",
              "      --hover-fill-color: #FFFFFF;\n",
              "      --disabled-bg-color: #3B4455;\n",
              "      --disabled-fill-color: #666;\n",
              "  }\n",
              "\n",
              "  .colab-df-quickchart {\n",
              "    background-color: var(--bg-color);\n",
              "    border: none;\n",
              "    border-radius: 50%;\n",
              "    cursor: pointer;\n",
              "    display: none;\n",
              "    fill: var(--fill-color);\n",
              "    height: 32px;\n",
              "    padding: 0;\n",
              "    width: 32px;\n",
              "  }\n",
              "\n",
              "  .colab-df-quickchart:hover {\n",
              "    background-color: var(--hover-bg-color);\n",
              "    box-shadow: 0 1px 2px rgba(60, 64, 67, 0.3), 0 1px 3px 1px rgba(60, 64, 67, 0.15);\n",
              "    fill: var(--button-hover-fill-color);\n",
              "  }\n",
              "\n",
              "  .colab-df-quickchart-complete:disabled,\n",
              "  .colab-df-quickchart-complete:disabled:hover {\n",
              "    background-color: var(--disabled-bg-color);\n",
              "    fill: var(--disabled-fill-color);\n",
              "    box-shadow: none;\n",
              "  }\n",
              "\n",
              "  .colab-df-spinner {\n",
              "    border: 2px solid var(--fill-color);\n",
              "    border-color: transparent;\n",
              "    border-bottom-color: var(--fill-color);\n",
              "    animation:\n",
              "      spin 1s steps(1) infinite;\n",
              "  }\n",
              "\n",
              "  @keyframes spin {\n",
              "    0% {\n",
              "      border-color: transparent;\n",
              "      border-bottom-color: var(--fill-color);\n",
              "      border-left-color: var(--fill-color);\n",
              "    }\n",
              "    20% {\n",
              "      border-color: transparent;\n",
              "      border-left-color: var(--fill-color);\n",
              "      border-top-color: var(--fill-color);\n",
              "    }\n",
              "    30% {\n",
              "      border-color: transparent;\n",
              "      border-left-color: var(--fill-color);\n",
              "      border-top-color: var(--fill-color);\n",
              "      border-right-color: var(--fill-color);\n",
              "    }\n",
              "    40% {\n",
              "      border-color: transparent;\n",
              "      border-right-color: var(--fill-color);\n",
              "      border-top-color: var(--fill-color);\n",
              "    }\n",
              "    60% {\n",
              "      border-color: transparent;\n",
              "      border-right-color: var(--fill-color);\n",
              "    }\n",
              "    80% {\n",
              "      border-color: transparent;\n",
              "      border-right-color: var(--fill-color);\n",
              "      border-bottom-color: var(--fill-color);\n",
              "    }\n",
              "    90% {\n",
              "      border-color: transparent;\n",
              "      border-bottom-color: var(--fill-color);\n",
              "    }\n",
              "  }\n",
              "</style>\n",
              "\n",
              "  <script>\n",
              "    async function quickchart(key) {\n",
              "      const quickchartButtonEl =\n",
              "        document.querySelector('#' + key + ' button');\n",
              "      quickchartButtonEl.disabled = true;  // To prevent multiple clicks.\n",
              "      quickchartButtonEl.classList.add('colab-df-spinner');\n",
              "      try {\n",
              "        const charts = await google.colab.kernel.invokeFunction(\n",
              "            'suggestCharts', [key], {});\n",
              "      } catch (error) {\n",
              "        console.error('Error during call to suggestCharts:', error);\n",
              "      }\n",
              "      quickchartButtonEl.classList.remove('colab-df-spinner');\n",
              "      quickchartButtonEl.classList.add('colab-df-quickchart-complete');\n",
              "    }\n",
              "    (() => {\n",
              "      let quickchartButtonEl =\n",
              "        document.querySelector('#df-0f8f4dc9-b14f-467d-b5a2-94b784848575 button');\n",
              "      quickchartButtonEl.style.display =\n",
              "        google.colab.kernel.accessAllowed ? 'block' : 'none';\n",
              "    })();\n",
              "  </script>\n",
              "</div>\n",
              "    </div>\n",
              "  </div>\n"
            ],
            "application/vnd.google.colaboratory.intrinsic+json": {
              "type": "dataframe",
              "variable_name": "df",
              "summary": "{\n  \"name\": \"df\",\n  \"rows\": 100000,\n  \"fields\": [\n    {\n      \"column\": \"video_id\",\n      \"properties\": {\n        \"dtype\": \"number\",\n        \"std\": 28867,\n        \"min\": 1,\n        \"max\": 100000,\n        \"num_unique_values\": 100000,\n        \"samples\": [\n          75722,\n          80185,\n          19865\n        ],\n        \"semantic_type\": \"\",\n        \"description\": \"\"\n      }\n    },\n    {\n      \"column\": \"shows\",\n      \"properties\": {\n        \"dtype\": \"number\",\n        \"std\": 63525.44160072528,\n        \"min\": 1.0,\n        \"max\": 19257035.0,\n        \"num_unique_values\": 1501,\n        \"samples\": [\n          1468.0,\n          3551.0,\n          923.0\n        ],\n        \"semantic_type\": \"\",\n        \"description\": \"\"\n      }\n    },\n    {\n      \"column\": \"is_spam\",\n      \"properties\": {\n        \"dtype\": \"number\",\n        \"std\": 0,\n        \"min\": 0,\n        \"max\": 1,\n        \"num_unique_values\": 2,\n        \"samples\": [\n          1,\n          0\n        ],\n        \"semantic_type\": \"\",\n        \"description\": \"\"\n      }\n    }\n  ]\n}"
            }
          },
          "metadata": {},
          "execution_count": 23
        }
      ],
      "source": [
        "np.random.seed(42)\n",
        "n_obs = 10**5\n",
        "\n",
        "b = 0.7\n",
        "rv = sts.pareto(b)\n",
        "\n",
        "df = pd.DataFrame.from_dict({\n",
        "    'video_id': np.arange(1, n_obs + 1),\n",
        "    'shows': np.round(rv.rvs(n_obs)),\n",
        "    'is_spam': np.random.binomial(1, 0.30, n_obs), # пусть в 30% видео встречается спам\n",
        "})\n",
        "\n",
        "print(df.shape)\n",
        "df.head()"
      ]
    },
    {
      "cell_type": "markdown",
      "id": "f12344e8",
      "metadata": {
        "id": "f12344e8"
      },
      "source": [
        "__а) [5 баллов]__  Посчитайте по табличке `df` истиную долю плохих показов:\n",
        "\n",
        "$$\n",
        "p_{\\text{bad}} = \\frac{\\sum_{v \\in V} \\text{show}(v) \\cdot \\text{isSpam}(v) }{\\sum_{v \\in V} \\text{show}(v)}.\n",
        "$$"
      ]
    },
    {
      "cell_type": "code",
      "execution_count": 24,
      "id": "f8f9768f",
      "metadata": {
        "colab": {
          "base_uri": "https://localhost:8080/"
        },
        "id": "f8f9768f",
        "outputId": "f8a26496-d3b1-4778-c698-e829fb46cbe5"
      },
      "outputs": [
        {
          "output_type": "execute_result",
          "data": {
            "text/plain": [
              "0.21062855303523043"
            ]
          },
          "metadata": {},
          "execution_count": 24
        }
      ],
      "source": [
        "p_bad_real = (df['is_spam']*df['shows']).sum()/df['shows'].sum()\n",
        "p_bad_real"
      ]
    },
    {
      "cell_type": "markdown",
      "id": "8e574f40",
      "metadata": {
        "id": "8e574f40"
      },
      "source": [
        "Мы не знаем всех меток $\\text{is\\_spam}(v)$. Мы можем позволить себе разметить маленький сэмпл, $S ⊂ V$. Каждое видео попадает к нам в сэмпл пропорционально числу его показов. Поэтому логично оценить долю плохих показов как\n",
        "\n",
        "$$\n",
        "\\hat{p}_{\\text{bad}} = \\frac{1}{|\\text{S}|}\\sum_{v \\in S} \\text{isSpam}(v).\n",
        "$$"
      ]
    },
    {
      "cell_type": "markdown",
      "id": "bb2210a2",
      "metadata": {
        "id": "bb2210a2"
      },
      "source": [
        "__б) [10 баллов]__ С помощью функции `np.random.choice` cделайте $10^4$ выборок __с повторениями__ размера $1000$.\n",
        "\n",
        "Постройте для каждой оценку доли плохих показов. Считайте, что модератор во время разметки безошибочно определяет значение из колонки `is_spam`.\n",
        "\n",
        "Нарисуйте гистограмму для получившегося распределения. Отметьте на ней настоящую долю плохих показов и получившееся у вас среднее. Правда ли, что мы получили несмещённую оценку?\n",
        "\n",
        "**Hint:** Перейдите от `pandas` к `numpy` и обратите внимание на команду `argsort()`. Такой код будет работать быстрее."
      ]
    },
    {
      "cell_type": "code",
      "execution_count": 25,
      "id": "ca9b68e5",
      "metadata": {
        "colab": {
          "base_uri": "https://localhost:8080/",
          "height": 49,
          "referenced_widgets": [
            "38d148cfb35748d79ade4a678f999ca3",
            "c9d51beca8cd476087ab68056c9fa823",
            "2c49fc1df4214241a1b9d8babf727719",
            "10d2af8478f6408b91b0d41dd890db5d",
            "05b89279137f45a3968bb886a7e6d7d0",
            "cdfad13f782941059f95d8bfe9615d83",
            "b594d451850b4b2681f8daffd0256a9d",
            "149d87c1df28425ba320538d5ec9c068",
            "7e82fd703fdc4720a59e976422fcbbfa",
            "84d7c752312145468c66381d25476fde",
            "0d447fd5edf5486b83e363d7fb776b41"
          ]
        },
        "id": "ca9b68e5",
        "outputId": "b5086f72-b25a-4962-aa00-5b8873dc9dd8"
      },
      "outputs": [
        {
          "output_type": "display_data",
          "data": {
            "text/plain": [
              "  0%|          | 0/10000 [00:00<?, ?it/s]"
            ],
            "application/vnd.jupyter.widget-view+json": {
              "version_major": 2,
              "version_minor": 0,
              "model_id": "38d148cfb35748d79ade4a678f999ca3"
            }
          },
          "metadata": {}
        }
      ],
      "source": [
        "from tqdm.notebook import tqdm\n",
        "\n",
        "n_obs = 10**4\n",
        "p_bad = np.zeros(n_obs)\n",
        "\n",
        "is_spam = df['is_spam'].values\n",
        "shows = df['shows'].values\n",
        "p = shows/shows.sum()\n",
        "\n",
        "for i in tqdm(range(n_obs)):\n",
        "    args = np.random.choice(np.arange(p.size), size=1000, replace=True, p = p)\n",
        "    sample_is_spam = is_spam[args]\n",
        "    shows_is_spam = shows[args]\n",
        "    p_bad[i] = sample_is_spam.mean()"
      ]
    },
    {
      "cell_type": "code",
      "execution_count": 26,
      "id": "445a0457",
      "metadata": {
        "colab": {
          "base_uri": "https://localhost:8080/",
          "height": 430
        },
        "id": "445a0457",
        "outputId": "c829855e-ecbd-48c3-abb5-9e1f02596a5b"
      },
      "outputs": [
        {
          "output_type": "display_data",
          "data": {
            "text/plain": [
              "<Figure size 640x480 with 1 Axes>"
            ],
            "image/png": "[encoded data removed]"
          },
          "metadata": {}
        }
      ],
      "source": [
        "sns.histplot(p_bad, stat=\"density\")\n",
        "\n",
        "plt.axvline(x=p_bad_real, ymin=0, ymax= 60,\n",
        "            color='red', linestyle='dashed', label='p_real')\n",
        "\n",
        "plt.axvline(x=p_bad.mean(), ymin=0, ymax= 60,\n",
        "            color='magenta', linestyle='dashed', label='E(p)')\n",
        "plt.legend();"
      ]
    },
    {
      "cell_type": "code",
      "execution_count": 27,
      "id": "160535eb",
      "metadata": {
        "colab": {
          "base_uri": "https://localhost:8080/"
        },
        "id": "160535eb",
        "outputId": "0f2327a4-78ac-45dd-a5ce-f5c56413ab2f"
      },
      "outputs": [
        {
          "output_type": "execute_result",
          "data": {
            "text/plain": [
              "4.935303523037615e-05"
            ]
          },
          "metadata": {},
          "execution_count": 27
        }
      ],
      "source": [
        "p_bad_real - p_bad.mean()"
      ]
    },
    {
      "cell_type": "markdown",
      "id": "4eacebab",
      "metadata": {
        "id": "4eacebab"
      },
      "source": [
        "#### 3. Сэмплирование без повторений\n",
        "\n",
        "Выше мы сказали, что делать `np.random.choice` для огромных таблиц невозможно, так как они не поместятся в оперативную память.\n",
        "\n",
        "Более того, нам надо дать модераторам разметить видео на спам. Многие видео будут повторяться. Уникальных видео каждый раз будет разное количество. Нагрузка на модераторов будет неравномерной. Они будут жаловаться на это. Хочется, чтобы нагрузка всегда была одинаковой.\n",
        "\n",
        "Давайте сменим подход и будем делать **случайную взвешенную выборку БЕЗ ПОВТОРЕНИЙ.** Это означает, что наблюдения зависят друг от друга. Причём корреляция между ними довольно высокая. Это будет приводить к проблемам."
      ]
    },
    {
      "cell_type": "markdown",
      "id": "24fcc751",
      "metadata": {
        "id": "24fcc751"
      },
      "source": [
        "Пусть у нас есть $n$ объектов. Мы хотим отобрать $k$ видео для разметки модераторами. Использование `np.random.choice` можно проинтерпретировать следующим образом:\n",
        "\n",
        "1. Напишем название $i-$го видео на разных табличках $\\text{shows}_i$ раз.\n",
        "2. Случайно перемешаем все таблички и положим их в стопку в случайном порядке.\n",
        "3. Будем отбирать самые верхние таблички до тех пор, пока не встретим $k$ разных названий видео."
      ]
    },
    {
      "cell_type": "markdown",
      "id": "f6d92a13",
      "metadata": {
        "id": "f6d92a13"
      },
      "source": [
        "Если бы нам были бы не важны веса в виде показов, каждое видео попадало бы к нам в выборку равновероятно. Мы могли бы отобрать выборку размера $k$ следущим образом:\n",
        "\n",
        "1. Для каждого видео генерируем $X_i \\sim U[0; 1]$ (по одной табличке на видео).\n",
        "2. Сортируем все видео по сгенерированной случайной величине.\n",
        "3. Срезаем топ-k видео в итоговую выборку."
      ]
    },
    {
      "cell_type": "markdown",
      "id": "461280ff",
      "metadata": {
        "id": "461280ff"
      },
      "source": [
        "Веса в виде показов для нас важны. В теринах равномерных случайных величин алгоритм с весами можно записать так:\n",
        "\n",
        "1. Для $i$-го видео генерируем $\\text{shows}_i$ независимых равномерных случайных величин (для каждого видео свое число табличек).\n",
        "2. Складываем все таблички в одну стопку и сортируем их по сгенерированным величинам.\n",
        "3. Идём по массиву от больших элементов к меньшим и отбираем видео, пока не накопим $k$ элементов."
      ]
    },
    {
      "cell_type": "markdown",
      "id": "a8e24fc7",
      "metadata": {
        "id": "a8e24fc7"
      },
      "source": [
        "Очень не хочется для какого-нибудь популярного видео генерировать несколько миллиардов случайных чисел. Конечно же, сразу нужно генерировать случайную величину, которая будет максимумом нескольких независимых равномерных случайных величин. На итоговую сортировку это никак не повлияет. Мы отберём те же самые видео.  \n",
        "\n"
      ]
    },
    {
      "cell_type": "markdown",
      "id": "4b90d075",
      "metadata": {
        "id": "4b90d075"
      },
      "source": [
        "Сгенерировать для каждого видео $X_{i,max}$ можно с помощью квантильного преобразования.\n",
        "\n",
        "Пусть случайные величины $X_1, \\ldots, X_m \\sim \\text{iid} \\, U[0;1].$ Пусть $Y = \\max(X_1, \\ldots, X_m).$\n",
        "\n",
        "Мы знаем, что $F_{Y}(x) = x^m,$ если $x \\in [0; 1].$ Выборку из распределения $F_{Y}(x)$ можно сгенерировать в два шага:\n",
        "\n",
        "- $x_1, \\ldots, x_m \\sim \\text{iid} \\, U[0;1]$\n",
        "- $y_i = x_i^{\\frac{1}{m}}$\n",
        "\n",
        "__в) [10 баллов]__ Фактически нам надо отсортировать все видео по величине $X_i^{\\frac{1}{\\text{shows}_i}}$, где $X_i \\sim U[0;1]$, и отобрать топ-$k$ видео в выборку для разметки модераторами. Сделайте, используя эту процедуру, для таблицы `df` сэмпл размера $100$."
      ]
    },
    {
      "cell_type": "code",
      "execution_count": 28,
      "id": "46cd75c6",
      "metadata": {
        "colab": {
          "base_uri": "https://localhost:8080/",
          "height": 335
        },
        "id": "46cd75c6",
        "outputId": "f82fb48b-daa4-43d0-8eb6-0f2344318d53"
      },
      "outputs": [
        {
          "output_type": "execute_result",
          "data": {
            "text/plain": [
              "count    100.000000\n",
              "mean       9.480415\n",
              "std        3.315466\n",
              "min        0.693147\n",
              "25%        7.702013\n",
              "50%       10.578835\n",
              "75%       11.693821\n",
              "max       16.773387\n",
              "Name: shows, dtype: float64"
            ],
            "text/html": [
              "<div>\n",
              "<style scoped>\n",
              "    .dataframe tbody tr th:only-of-type {\n",
              "        vertical-align: middle;\n",
              "    }\n",
              "\n",
              "    .dataframe tbody tr th {\n",
              "        vertical-align: top;\n",
              "    }\n",
              "\n",
              "    .dataframe thead th {\n",
              "        text-align: right;\n",
              "    }\n",
              "</style>\n",
              "<table border=\"1\" class=\"dataframe\">\n",
              "  <thead>\n",
              "    <tr style=\"text-align: right;\">\n",
              "      <th></th>\n",
              "      <th>shows</th>\n",
              "    </tr>\n",
              "  </thead>\n",
              "  <tbody>\n",
              "    <tr>\n",
              "      <th>count</th>\n",
              "      <td>100.000000</td>\n",
              "    </tr>\n",
              "    <tr>\n",
              "      <th>mean</th>\n",
              "      <td>9.480415</td>\n",
              "    </tr>\n",
              "    <tr>\n",
              "      <th>std</th>\n",
              "      <td>3.315466</td>\n",
              "    </tr>\n",
              "    <tr>\n",
              "      <th>min</th>\n",
              "      <td>0.693147</td>\n",
              "    </tr>\n",
              "    <tr>\n",
              "      <th>25%</th>\n",
              "      <td>7.702013</td>\n",
              "    </tr>\n",
              "    <tr>\n",
              "      <th>50%</th>\n",
              "      <td>10.578835</td>\n",
              "    </tr>\n",
              "    <tr>\n",
              "      <th>75%</th>\n",
              "      <td>11.693821</td>\n",
              "    </tr>\n",
              "    <tr>\n",
              "      <th>max</th>\n",
              "      <td>16.773387</td>\n",
              "    </tr>\n",
              "  </tbody>\n",
              "</table>\n",
              "</div><br><label><b>dtype:</b> float64</label>"
            ]
          },
          "metadata": {},
          "execution_count": 28
        }
      ],
      "source": [
        "df['uniform'] = sts.uniform(0,1).rvs(df.shape[0])\n",
        "df['x_max'] = df['uniform']**(1/df['shows'])\n",
        "\n",
        "df_sample = df.sort_values('x_max', ascending=False)[:100]\n",
        "df_sample['shows'].apply(np.log).describe()"
      ]
    },
    {
      "cell_type": "markdown",
      "id": "c38c245f",
      "metadata": {
        "id": "c38c245f"
      },
      "source": [
        "__г) [5 баллов]__ Вычислять на компьютере корни из числа, лежащего между 0 и 1 не очень удобно с точки зрения округления. Могут возникать большие ошибки.\n",
        "\n",
        "Гораздо эффективнее отобрать топ по величине $\\frac{1}{\\text{shows}_i} \\cdot \\ln X_i$, где $X_i \\sim U[0;1]$. Проделайте это."
      ]
    },
    {
      "cell_type": "code",
      "execution_count": 29,
      "id": "199a9358",
      "metadata": {
        "colab": {
          "base_uri": "https://localhost:8080/"
        },
        "id": "199a9358",
        "outputId": "f47134a1-96f3-4cf8-af85-961797bf61d2"
      },
      "outputs": [
        {
          "output_type": "execute_result",
          "data": {
            "text/plain": [
              "100"
            ]
          },
          "metadata": {},
          "execution_count": 29
        }
      ],
      "source": [
        "df['ln_x_max'] = (1/df['shows'])*np.log(df['uniform'])\n",
        "\n",
        "sample01 = set(df.sort_values('x_max', ascending=False)[:100].video_id.values)\n",
        "sample02 = set(df.sort_values('ln_x_max', ascending=False)[:100].video_id.values)\n",
        "\n",
        "len(sample01 & sample02)"
      ]
    },
    {
      "cell_type": "markdown",
      "id": "7bd49407",
      "metadata": {
        "id": "7bd49407"
      },
      "source": [
        "Такую процедуру можно найти в продакшн-процессах у многих компаний. В Яндексе похожая процедура используется для сэмплирования поисковых запросов для дальнейшей разметки. [В статье](https://yadi.sk/i/IxKLPFEj3TSpPe) можно найти доказательство того, что алгоритм даст корректную вероятность для каждого видео.\n",
        "\n",
        "В примере выше, мы держим табличку в оперативной памяти компьютера. Это игрушечный пример, и это позволительно. В реальной жизни мы можем считывать строки с жесткого диска, для каждой из них по очереди генерировать случайную величину и поддерживать топ-к уникальных видео в памяти. Например, в этом может помочь такая структура данных [как куча.](https://ru.wikipedia.org/wiki/Куча_(структура_данных))"
      ]
    },
    {
      "cell_type": "markdown",
      "id": "5c725136",
      "metadata": {
        "id": "5c725136"
      },
      "source": [
        "#### 4. Оценка доли плохих показов\n",
        "\n",
        "Дальше нам остаётся разметить видео и аккуратно посчитать итоговую метрику. Беда будет в том, что она окажется смещённой."
      ]
    },
    {
      "cell_type": "markdown",
      "id": "4e24fabe",
      "metadata": {
        "id": "4e24fabe"
      },
      "source": [
        "__д) [10 баллов]__ Сделайте $10^4$ выборок размера $1000$. Постройте для каждой оценку доли плохих показов. Считайте, что модератор во время разметки безошибочно определяет значение из колонки `is_spam`.\n",
        "\n",
        "Нарисуйте гистограмму для получившегося распределения. Отметьте на ней настоящую долю плохих показов и получившееся у вас среднее. Правда ли, что они сильно отличаются друг от друга? Найдите среднее смещение оценки."
      ]
    },
    {
      "cell_type": "code",
      "execution_count": 30,
      "id": "ff992280",
      "metadata": {
        "colab": {
          "base_uri": "https://localhost:8080/",
          "height": 49,
          "referenced_widgets": [
            "fa050f56ac8a4d2dbe39f616b65d0d81",
            "2532d8f8a8714e0ea96e5851479f7ffd",
            "a336a5e6374c48c98144492050cf4817",
            "3b755240fc0049bf93bffb388d370538",
            "66c45b85aaa54530b39301391e654588",
            "5845173f8b9945569565b76d17b5f1fb",
            "14b8252c2a244befa959638bf716fad7",
            "ba9efd5ee8a441298cb1c07451d84d2e",
            "0617efecdeaa43799aac31dc035b54db",
            "6709303be92b4f66a682f3541688c9be",
            "3322d9beffbd486bbdcecda3298758c0"
          ]
        },
        "id": "ff992280",
        "outputId": "61145396-dd2b-4b07-b27e-003822fc7396"
      },
      "outputs": [
        {
          "output_type": "display_data",
          "data": {
            "text/plain": [
              "  0%|          | 0/10000 [00:00<?, ?it/s]"
            ],
            "application/vnd.jupyter.widget-view+json": {
              "version_major": 2,
              "version_minor": 0,
              "model_id": "fa050f56ac8a4d2dbe39f616b65d0d81"
            }
          },
          "metadata": {}
        }
      ],
      "source": [
        "from tqdm.notebook import tqdm\n",
        "\n",
        "n_obs = 10**4\n",
        "p_bad = np.zeros(n_obs)\n",
        "\n",
        "is_spam = df['is_spam'].values\n",
        "shows = df['shows'].values\n",
        "p = 1/shows\n",
        "\n",
        "for i in tqdm(range(n_obs)):\n",
        "    ln_x_max = p * np.log(sts.uniform(0,1).rvs(df.shape[0]))\n",
        "    args = ln_x_max.argsort()[::-1][:1000]\n",
        "    sample_is_spam = is_spam[args]\n",
        "    shows_is_spam = shows[args]\n",
        "    p_bad[i] = sample_is_spam.mean()"
      ]
    },
    {
      "cell_type": "code",
      "execution_count": 31,
      "id": "87244fed",
      "metadata": {
        "colab": {
          "base_uri": "https://localhost:8080/"
        },
        "id": "87244fed",
        "outputId": "40eb20ca-c47c-4002-9af9-6f5a71eb4e6f"
      },
      "outputs": [
        {
          "output_type": "execute_result",
          "data": {
            "text/plain": [
              "0.3074001"
            ]
          },
          "metadata": {},
          "execution_count": 31
        }
      ],
      "source": [
        "p_bad.mean()"
      ]
    },
    {
      "cell_type": "code",
      "execution_count": 32,
      "id": "6047a131",
      "metadata": {
        "colab": {
          "base_uri": "https://localhost:8080/"
        },
        "id": "6047a131",
        "outputId": "d8905b6b-f4fb-4a8f-ff9a-fc387873662c"
      },
      "outputs": [
        {
          "output_type": "execute_result",
          "data": {
            "text/plain": [
              "0.21062855303523043"
            ]
          },
          "metadata": {},
          "execution_count": 32
        }
      ],
      "source": [
        "p_bad_real"
      ]
    },
    {
      "cell_type": "code",
      "execution_count": 33,
      "id": "eb2597d3",
      "metadata": {
        "colab": {
          "base_uri": "https://localhost:8080/"
        },
        "id": "eb2597d3",
        "outputId": "f978e66a-eb8e-4ea9-b2f0-5320aedfa975"
      },
      "outputs": [
        {
          "output_type": "execute_result",
          "data": {
            "text/plain": [
              "0.09677154696476957"
            ]
          },
          "metadata": {},
          "execution_count": 33
        }
      ],
      "source": [
        "(p_bad - p_bad_real).mean()"
      ]
    },
    {
      "cell_type": "code",
      "execution_count": 34,
      "id": "148c0c32",
      "metadata": {
        "colab": {
          "base_uri": "https://localhost:8080/",
          "height": 430
        },
        "id": "148c0c32",
        "outputId": "bb5e994c-3c10-478a-f505-7a9e73428826"
      },
      "outputs": [
        {
          "output_type": "display_data",
          "data": {
            "text/plain": [
              "<Figure size 640x480 with 1 Axes>"
            ],
            "image/png": "[encoded data removed]"
          },
          "metadata": {}
        }
      ],
      "source": [
        "sns.histplot(p_bad, stat=\"density\")\n",
        "\n",
        "plt.axvline(x=p_bad_real, ymin=0, ymax= 60,\n",
        "            color='red', linestyle='dashed', label='p_real')\n",
        "\n",
        "plt.axvline(x=p_bad.mean(), ymin=0, ymax= 60,\n",
        "            color='magenta', linestyle='dashed', label='E(p)')\n",
        "plt.legend();"
      ]
    },
    {
      "cell_type": "markdown",
      "id": "9b820f32",
      "metadata": {
        "id": "9b820f32"
      },
      "source": [
        "**Откуда появляется это смещение?** Представим себе, что у нас есть случайная величина $X$, которая принмает пять значений с вероятностями\n",
        "\n",
        "<center>\n",
        "\n",
        "|  $X$         | $x_1$   | $x_2$ | $x_3$ | $x_4$    | $x_5$    |\n",
        "|:------------:|:-------:|:-----:|:-----:|:--------:|:--------:|\n",
        "| $P(X = x)$   | $^1/_2$ |$^1/_4$|$^1/_8$|$^1/_{16}$|$^1/_{16}$|\n",
        "\n",
        "</center>\n",
        "\n",
        "Если мы делаем выборку с повторениями, как часто туда будет попадать элемент $x_1$? Элемент попадает в выборку с вероятностью $^1/_2.$ Будем вытаскивать из выборки элементы до тех пор, пока $x_1$ не окажется в наших руках. Номер попытки, начиная с которой $x_1$ окажется у нас, имеет геометрическое распределение. Если $Y \\sim \\text{Geom}(p),$ тогда $\\mathbb{E}(Y) = \\frac{1}{p}.$\n",
        "\n",
        "Получается, элемент $x_1$ окажется в нашей выборке в среднем на второй попытке. Если бы мы делали выборку с повторениями, каждый второй элемент в ней был бы равен $x_1,$  каждый четвёртый был бы равен $x_2$, каждый восьмой был бы равен $x_3$ и так далее. Обратим внимание, что если мы делаем выборку из трёх элементов без повторений, то чаще всего мы будем работать с выборкой $x_1, x_2, x_3$.\n",
        "\n",
        "В ситуации с видео, мы сэмплируем их пропорционально числу показов. В числе показов может быть очень сильный перекос. Какие-то видео показываются в рекомендательной системе десятки раз, а какие-то вирусятся и прорываются в тренды. Каждый раз, когда мы __без возвращения__ берём новое видео в выборку, мы как бы занижаем его вес в несмещённой выборке (выборке с повторениями)."
      ]
    },
    {
      "cell_type": "markdown",
      "id": "4290bb25",
      "metadata": {
        "id": "4290bb25"
      },
      "source": [
        "#### 5. Исправляем смещение\n",
        "\n",
        "На выборку без повторений размера $n$ можно смотреть следующим образом: мы генерируем выборку с возвращением до тех пор, пока количество уникальных элементов не достигнет числа $n$. При этом, если мы берём на каком-то шаге элемент уже выбранный ранее, мы не включаем его в выборку, а только отдельно запоминаем где-нибудь счётчик числа вхождений этого элемента $c_i$. При таком подходе несмещённую оценку доли плохого можно записать как\n",
        "\n",
        "$$\n",
        "\\hat{p}_{\\text{bad}} = \\frac{\\sum_{i=1}^{n} c_i \\cdot \\text{isSpam}(v_i)}{\\sum_{i=1}^{n} c_i.}\n",
        "$$\n",
        "\n",
        "Если выборка имеет сильно неравномерные веса, то нам придётся довольно долго генерировать элементы с возвращением, пока мы наберём необходимое количество уникальных.\n",
        "\n",
        "Поэтому вместо того, чтобы накапливать счётчики вхождений, мы рассчитаем их математическое ожидание по всем сгенерированным выборкам без повторений, имеющим такое же упорядоченное множество элементов $w_i = \\mathbb{E}(c_i).$\n",
        "\n",
        "Пусть $q_i = \\frac{show(v_i)}{\\sum_{j=1}^{|V|} show(v_j)}$,пусть $w_i^k$ —  количество вхождений элемента с индексом $i$ к моменту, когда в выборке набралось $k$ уникальных элементов. Пусть уникальные элементы попадают в выборку в порядке $v_1, v_2, v_3, \\ldots, v_n$.\n",
        "\n",
        "Когда мы возьмём первый элемент:\n",
        "\n",
        "$$\n",
        "w_1^1 =1, \\quad w_2^1 = 0, \\quad w_3^1 = 0, \\quad \\ldots, \\quad w_n^1 = 0.\n",
        "$$\n",
        "\n",
        "Прежде, чем мы достанем второй уникальный элемент, мы, в среднем, достанем первый элемент ещё  $\\frac{1}{1 - q_1} - 1 = \\frac{q_1}{1 - q_1}$ раз.\n",
        "\n",
        "Эту величину мы посчитали с помощью геометрического распределения. В качестве успешного события мы рассматриваем второй уникальный элемент. Вероятность успеха равна $1- q_1.$ Геометрическая случайная величина представляет из себя номер первого успешного события. Если мы хотим получить число не успешных событий, надо вычесть единицу.\n",
        "\n",
        "Получаем\n",
        "\n",
        "$$\n",
        "w_1^2 = 1 + \\frac{q_1}{1 - q_1}, \\quad w_2^2 = 1, \\quad w_3^2 = 0, \\quad \\ldots, \\quad w_n^2 = 0.\n",
        "$$\n",
        "\n",
        "Прежде, чем мы достанем третий уникальный элемент, мы, в среднем, достанем первые два элемента ещё $\\frac{1}{1 - (q_1 + q_2)} - 1 = \\frac{q_1 + q_2}{1 - (q_1 + q_2)}$ раз. Из них доля доставания первого элемента составляет $\\frac{q_1}{q_1 + q_2}$, а доля второго $\\frac{q_2}{q_1 + q_2}$.\n",
        "\n",
        "Получаем\n",
        "\n",
        "$$\n",
        "w_1^3 = 1 + \\frac{q_1}{1 - q_1} + \\frac{q_1}{1 - (q_1 + q_2)}, \\quad w_2^3 = 1 + \\frac{q_2}{1 - (q_1 + q_2)}, \\quad  w_3^3 = 1, \\quad \\ldots, \\quad w_n^3 = 0.\n",
        "$$\n",
        "\n",
        "Продолжая эту логику до шага $n,$ получаем формулу\n",
        "\n",
        "$$\n",
        "c_i = w_i^n = 1 + q_i \\cdot \\left( \\sum_{j=i}^{n-1} \\frac{1}{1 - \\sum_{k=1}^j q_k} \\right).\n",
        "$$\n",
        "\n",
        "Подставим эти веса вместо счетчиков $c_i$. Это даст нам несмещённую оценку доли «плохих» показов на основе разметки ровно $n$ объектов\n",
        "\n",
        "$$\n",
        "\\hat p_{\\text{bad}} = \\frac{\\sum_{i=1}^n \\left[ 1 + q_i \\cdot \\left( \\sum_{j=i}^{n-1} \\frac{1}{1 - \\sum_{k=1}^j q_k} \\right) \\right] \\cdot isSpam(v_i)}{\\sum_{i=1}^n \\left[ 1 + q_i \\cdot \\left( \\sum_{j=i}^{n-1} \\frac{1}{1 - \\sum_{k=1}^j q_k} \\right)  \\right]},  \\quad q_i = \\frac{show(v_i)}{\\sum_{j=1}^{|V|} show(v_j)}.\n",
        "$$\n",
        "\n"
      ]
    },
    {
      "cell_type": "markdown",
      "id": "0b13032a",
      "metadata": {
        "id": "0b13032a"
      },
      "source": [
        "__е) [10 баллов]__ Пришло время закодит, полученные выше веса. Сделайте $1000$ выборок без повторений размера $1000$. Постройте для каждой оценку доли плохих показов. Убедитесь, что оценка, предложенная выше, окажется несмещённой.\n",
        "\n",
        "**Hint:** для расчёта весов удобно воспользоваться несколько раз функцией `np.cumsum`."
      ]
    },
    {
      "cell_type": "code",
      "execution_count": 35,
      "id": "d3c28596",
      "metadata": {
        "colab": {
          "base_uri": "https://localhost:8080/"
        },
        "id": "d3c28596",
        "outputId": "b7538a00-ff35-41d1-e443-dafe5e02c14a"
      },
      "outputs": [
        {
          "output_type": "execute_result",
          "data": {
            "text/plain": [
              "array([9, 7, 4])"
            ]
          },
          "metadata": {},
          "execution_count": 35
        }
      ],
      "source": [
        "# внимательно изучите этот код:\n",
        "\n",
        "a = np.array([2, 3, 4, 5])\n",
        "np.cumsum(a[:-1][::-1])[::-1]"
      ]
    },
    {
      "cell_type": "code",
      "execution_count": 36,
      "id": "3c389472",
      "metadata": {
        "id": "3c389472"
      },
      "outputs": [],
      "source": [
        "from tqdm.notebook import tqdm\n",
        "\n",
        "n_obs = 10**4\n",
        "p_bad = np.zeros(n_obs)\n",
        "p_bad2 = np.zeros(n_obs)\n",
        "p_bad3 = np.zeros(n_obs)\n",
        "\n",
        "p_var = np.zeros(n_obs)\n",
        "\n",
        "is_spam = df['is_spam'].values\n",
        "shows = df['shows'].values\n",
        "p = 1/shows\n",
        "q = shows/shows.sum()"
      ]
    },
    {
      "cell_type": "code",
      "execution_count": 37,
      "id": "b11ee60a",
      "metadata": {
        "colab": {
          "base_uri": "https://localhost:8080/",
          "height": 49,
          "referenced_widgets": [
            "52d5697473b647818a24aa9c948e1f09",
            "36687560411444b5bf2bbc06969a26c7",
            "73c1d923b6534614bb078680ab2992cf",
            "307d964beca14438885c5fbbdc683a98",
            "040ff3e76c424e8888c426dd0f672242",
            "a4e1c0ef3cec4657a0fb62c5edffdfba",
            "782b25fc6d1842b9a20eccb45cf15d91",
            "a15042c06a634532b3f5f2fa09a46774",
            "998fffd9f8724130aeb566e07be9ef4d",
            "b97512199c004506bdb589a7d046fda6",
            "75174df26cfa439eaa68328fa841e142"
          ]
        },
        "id": "b11ee60a",
        "outputId": "52651d3a-17f8-4490-a10a-82b6f4980dfd"
      },
      "outputs": [
        {
          "output_type": "display_data",
          "data": {
            "text/plain": [
              "  0%|          | 0/10000 [00:00<?, ?it/s]"
            ],
            "application/vnd.jupyter.widget-view+json": {
              "version_major": 2,
              "version_minor": 0,
              "model_id": "52d5697473b647818a24aa9c948e1f09"
            }
          },
          "metadata": {}
        }
      ],
      "source": [
        "for i in tqdm(range(n_obs)):\n",
        "    ln_x_max = p * np.log(sts.uniform(0,1).rvs(df.shape[0]))\n",
        "\n",
        "    args = ln_x_max.argsort()[::-1][:1000]\n",
        "    sample_is_spam = is_spam[args]\n",
        "    sample_q = q[args]\n",
        "    shows_q = shows[args]\n",
        "\n",
        "    src = 1/(1 - np.cumsum(sample_q))\n",
        "    src = np.cumsum(src[:-1][::-1])[::-1]\n",
        "    c = 1 + sample_q*np.hstack((src, 0))\n",
        "\n",
        "    p_bad[i] = (c * sample_is_spam).sum()/c.sum()\n",
        "    p_var[i] = (c**2).sum()/(c.sum()**2) * p_bad[i] * (1 - p_bad[i])\n",
        "\n",
        "    p_bad2[i] = sample_is_spam.mean()\n",
        "    p_bad3[i] = (sample_is_spam*shows_q).sum()/shows_q.sum()\n"
      ]
    },
    {
      "cell_type": "code",
      "execution_count": 38,
      "id": "8172528e",
      "metadata": {
        "colab": {
          "base_uri": "https://localhost:8080/"
        },
        "id": "8172528e",
        "outputId": "f5479e61-6f94-414a-cb15-b8706ac731c6"
      },
      "outputs": [
        {
          "output_type": "execute_result",
          "data": {
            "text/plain": [
              "0.21062855303523043"
            ]
          },
          "metadata": {},
          "execution_count": 38
        }
      ],
      "source": [
        "p_bad_real"
      ]
    },
    {
      "cell_type": "code",
      "execution_count": 39,
      "id": "066c49a9",
      "metadata": {
        "colab": {
          "base_uri": "https://localhost:8080/"
        },
        "id": "066c49a9",
        "outputId": "294bca23-0070-4b5a-85d0-934ce8f01695"
      },
      "outputs": [
        {
          "output_type": "execute_result",
          "data": {
            "text/plain": [
              "0.21062718576172787"
            ]
          },
          "metadata": {},
          "execution_count": 39
        }
      ],
      "source": [
        "p_bad.mean() # неудачный нейминг, это p_super_puper_nice или p_kaef"
      ]
    },
    {
      "cell_type": "code",
      "execution_count": 40,
      "id": "8f27730a",
      "metadata": {
        "colab": {
          "base_uri": "https://localhost:8080/"
        },
        "id": "8f27730a",
        "outputId": "423ae234-0855-4408-eb7d-6b5f3969a567"
      },
      "outputs": [
        {
          "output_type": "execute_result",
          "data": {
            "text/plain": [
              "0.3073304"
            ]
          },
          "metadata": {},
          "execution_count": 40
        }
      ],
      "source": [
        "p_bad2.mean()"
      ]
    },
    {
      "cell_type": "code",
      "execution_count": 41,
      "id": "2f84379f",
      "metadata": {
        "colab": {
          "base_uri": "https://localhost:8080/"
        },
        "id": "2f84379f",
        "outputId": "a531c3ff-ed7e-4ee9-afea-f843c14fd43d"
      },
      "outputs": [
        {
          "output_type": "execute_result",
          "data": {
            "text/plain": [
              "0.205656171881358"
            ]
          },
          "metadata": {},
          "execution_count": 41
        }
      ],
      "source": [
        "# Это тупо по показам посчитали. Надо написать в решении, что это фиговый подход\n",
        "# И если возникает соблазн так делать то это кринж :)\n",
        "p_bad3.mean()"
      ]
    },
    {
      "cell_type": "code",
      "source": [
        "sns.histplot(p_bad, stat=\"density\")\n",
        "\n",
        "plt.axvline(x=p_bad_real, ymin=0, ymax= 60,\n",
        "            color='red', linestyle='dashed', label='p_real')\n",
        "\n",
        "plt.axvline(x=p_bad.mean(), ymin=0, ymax= 60,\n",
        "            color='magenta', linestyle='dashed', label='E(p)')\n",
        "plt.legend();"
      ],
      "metadata": {
        "colab": {
          "base_uri": "https://localhost:8080/",
          "height": 430
        },
        "id": "vviFO0kEl0x-",
        "outputId": "5343689e-183e-459a-b41d-54d129840349"
      },
      "id": "vviFO0kEl0x-",
      "execution_count": 42,
      "outputs": [
        {
          "output_type": "display_data",
          "data": {
            "text/plain": [
              "<Figure size 640x480 with 1 Axes>"
            ],
            "image/png": "[encoded data removed]"
          },
          "metadata": {}
        }
      ]
    },
    {
      "cell_type": "markdown",
      "id": "90e4c847",
      "metadata": {
        "id": "90e4c847"
      },
      "source": [
        "#### 6. Доверительный интервал\n",
        "\n",
        "Про долю плохих заказов надо уметь делать выводы. Для этого надо построить доверительный интервал. Для него нужна дисперсия. Все карточки размечаются модераторами незвисимо друг от друга. Получается, что дисперсию можно найти как\n",
        "\n",
        "$$\n",
        "\\text{Var}(\\hat p_{\\text{bad}}) = \\frac{\\sum_{i=1}^n c^2_i \\cdot \\text{Var}(\\text{isSpam}(v_i))}{\\left(\\sum_{i=1}^n c_i\\right)^2} = \\frac{\\sum_{i=1}^n c^2_i}{\\left(\\sum_{i=1}^n c_i\\right)^2} \\cdot p_{\\text{bad}} \\cdot (1 - p_{\\text{bad}})\n",
        "$$\n",
        "\n",
        "Видно, что если сэмпл занимает небольшую долю выборки и показы распределены между элементами достаточно равномерно, то веса $c_i$ будут несильно отличаться от $1$. Тогда асимптотически, по мере роста размера сэмпла, стандартное отклонение метрики будет падать как $\\frac{1}{\\sqrt{n}}.$\n",
        "\n",
        "Однако, если существенная доля показов в рекомендательной ленте представлена небольшой группой видосов, тогда веса будут существенно различаться и, начиная с определённого момента, увеличение размера выборки не будет давать заметного снижения разброса в оценке доли плохих показов."
      ]
    },
    {
      "cell_type": "markdown",
      "id": "d025111a",
      "metadata": {
        "id": "d025111a"
      },
      "source": [
        "__ё) [5 баллов]__ Сделайте $1000$ выборок без повторений размера $1000$. Постройте по каждой $95\\%$ доверительный интервал для доли плохих показов.\n",
        "\n",
        "Убедитесь, что он действительно покрывает долю плохих показов с вероятностью $0.95$."
      ]
    },
    {
      "cell_type": "code",
      "execution_count": 51,
      "id": "eaeef1bc",
      "metadata": {
        "colab": {
          "base_uri": "https://localhost:8080/"
        },
        "id": "eaeef1bc",
        "outputId": "5e8c3e4a-9643-4f3c-a20a-7b3c34fba143"
      },
      "outputs": [
        {
          "output_type": "execute_result",
          "data": {
            "text/plain": [
              "1.0"
            ]
          },
          "metadata": {},
          "execution_count": 51
        }
      ],
      "source": [
        "alpha = 0.05\n",
        "z = sts.norm().ppf(1 - alpha/2)\n",
        "\n",
        "left = p_bad - z * np.sqrt(p_var)\n",
        "right = p_bad + z * np.sqrt(p_var)\n",
        "\n",
        "np.mean((p_bad_real <= right)&(p_bad_real >= left))"
      ]
    },
    {
      "cell_type": "code",
      "execution_count": 52,
      "id": "e0a3099a",
      "metadata": {
        "colab": {
          "base_uri": "https://localhost:8080/"
        },
        "id": "e0a3099a",
        "outputId": "3496a23b-0b6d-4445-e028-bd5d90a83375"
      },
      "outputs": [
        {
          "output_type": "execute_result",
          "data": {
            "text/plain": [
              "array([-0.162657  , -0.16238526, -0.16282256, ..., -0.16330489,\n",
              "       -0.16240689, -0.16290919])"
            ]
          },
          "metadata": {},
          "execution_count": 52
        }
      ],
      "source": [
        "left"
      ]
    },
    {
      "cell_type": "code",
      "execution_count": 53,
      "id": "48a46f89",
      "metadata": {
        "colab": {
          "base_uri": "https://localhost:8080/"
        },
        "id": "48a46f89",
        "outputId": "9db56f21-a9e1-4652-91e6-2173e510f6e9"
      },
      "outputs": [
        {
          "output_type": "execute_result",
          "data": {
            "text/plain": [
              "array([0.58402185, 0.58492751, 0.58312034, ..., 0.58100084, 0.585274  ,\n",
              "       0.58287369])"
            ]
          },
          "metadata": {},
          "execution_count": 53
        }
      ],
      "source": [
        "right"
      ]
    },
    {
      "cell_type": "code",
      "source": [
        "(right - left).mean()"
      ],
      "metadata": {
        "colab": {
          "base_uri": "https://localhost:8080/"
        },
        "id": "3mqe2K8xmZ0p",
        "outputId": "4021618c-3037-4271-f6ee-1d7f543383c5"
      },
      "id": "3mqe2K8xmZ0p",
      "execution_count": 54,
      "outputs": [
        {
          "output_type": "execute_result",
          "data": {
            "text/plain": [
              "0.7465722735058744"
            ]
          },
          "metadata": {},
          "execution_count": 54
        }
      ]
    },
    {
      "cell_type": "code",
      "source": [
        "(right > 1).sum()"
      ],
      "metadata": {
        "colab": {
          "base_uri": "https://localhost:8080/"
        },
        "id": "QkwXJ-YVminy",
        "outputId": "f785352c-ef32-40cd-99f8-8249c59f1247"
      },
      "id": "QkwXJ-YVminy",
      "execution_count": 55,
      "outputs": [
        {
          "output_type": "execute_result",
          "data": {
            "text/plain": [
              "0"
            ]
          },
          "metadata": {},
          "execution_count": 55
        }
      ]
    },
    {
      "cell_type": "code",
      "source": [
        "(left < 0).mean() # лол"
      ],
      "metadata": {
        "colab": {
          "base_uri": "https://localhost:8080/"
        },
        "id": "QNufMN_dmnLO",
        "outputId": "9f0316ca-7ef4-40ff-8842-aef91e19c19a"
      },
      "id": "QNufMN_dmnLO",
      "execution_count": 57,
      "outputs": [
        {
          "output_type": "execute_result",
          "data": {
            "text/plain": [
              "1.0"
            ]
          },
          "metadata": {},
          "execution_count": 57
        }
      ]
    },
    {
      "cell_type": "markdown",
      "id": "f6a15e7f",
      "metadata": {
        "id": "f6a15e7f"
      },
      "source": [
        "__ж) [5 баллов]__ Если вы всё сделали всё верно, выше симуляции дали очень плохой результат. Доверительный интервал развалился. Он оказался слишком широким. Более того, он пробивает слева ноль.\n",
        "\n",
        "Сконструируйте доверительный интервал Уилсона. Убедитесь, что он больше не пробивает отрезок $[0;1]$."
      ]
    },
    {
      "cell_type": "code",
      "execution_count": 64,
      "id": "7633eb0f",
      "metadata": {
        "id": "7633eb0f"
      },
      "outputs": [],
      "source": [
        "# Важно: баллы за этот пукнт ставим всем, тут интервал надо выводить и аккуратно\n",
        "# пихать веса в формулу, я когда составлял думал что достаточно сделать как ниже,\n",
        "# это неправда, к сожалению\n",
        "\n",
        "u = n_obs / (n_obs + z**2)\n",
        "n_w = n_obs + z**2\n",
        "\n",
        "p_bad_w = u * p_bad + (1 - u) * 0.5\n",
        "std_hat_w = np.sqrt(u * p_var + (1 - u) * (0.5 **2 ) / n_w)\n",
        "left = p_bad_w - z * std_hat_w\n",
        "right = p_bad_w + z * std_hat_w"
      ]
    },
    {
      "cell_type": "code",
      "source": [
        "(right - left).mean()"
      ],
      "metadata": {
        "colab": {
          "base_uri": "https://localhost:8080/"
        },
        "id": "PBcex-3knuCs",
        "outputId": "49a938e0-3f16-4001-b3d6-07e9e5359e5b"
      },
      "id": "PBcex-3knuCs",
      "execution_count": 65,
      "outputs": [
        {
          "output_type": "execute_result",
          "data": {
            "text/plain": [
              "0.7464290172479922"
            ]
          },
          "metadata": {},
          "execution_count": 65
        }
      ]
    },
    {
      "cell_type": "code",
      "source": [
        "np.mean((p_bad_real <= right)&(p_bad_real >= left))"
      ],
      "metadata": {
        "colab": {
          "base_uri": "https://localhost:8080/"
        },
        "id": "aSX0exixm5Wf",
        "outputId": "01286ede-82c0-4b93-c199-b9971d2a54fb"
      },
      "id": "aSX0exixm5Wf",
      "execution_count": 66,
      "outputs": [
        {
          "output_type": "execute_result",
          "data": {
            "text/plain": [
              "1.0"
            ]
          },
          "metadata": {},
          "execution_count": 66
        }
      ]
    },
    {
      "cell_type": "code",
      "source": [
        "left # тут достаточно было сделать так, кажется тут с весами надо аккуратнее быть"
      ],
      "metadata": {
        "colab": {
          "base_uri": "https://localhost:8080/"
        },
        "id": "irJyq2PUn37Q",
        "outputId": "49f60843-8362-4c04-c574-264269a274cc"
      },
      "id": "irJyq2PUn37Q",
      "execution_count": 67,
      "outputs": [
        {
          "output_type": "execute_result",
          "data": {
            "text/plain": [
              "array([-0.16247426, -0.16220269, -0.16263969, ..., -0.16312167,\n",
              "       -0.16222434, -0.16272627])"
            ]
          },
          "metadata": {},
          "execution_count": 67
        }
      ]
    },
    {
      "cell_type": "code",
      "source": [
        "right"
      ],
      "metadata": {
        "colab": {
          "base_uri": "https://localhost:8080/"
        },
        "id": "iW14aIwzn7aN",
        "outputId": "7521a2d0-a20a-4d7a-ca77-dacbaafdd3ad"
      },
      "id": "iW14aIwzn7aN",
      "execution_count": 68,
      "outputs": [
        {
          "output_type": "execute_result",
          "data": {
            "text/plain": [
              "array([0.58406131, 0.58496668, 0.58316007, ..., 0.58104123, 0.58531307,\n",
              "       0.58291351])"
            ]
          },
          "metadata": {},
          "execution_count": 68
        }
      ]
    },
    {
      "cell_type": "markdown",
      "id": "94bc15cc",
      "metadata": {
        "id": "94bc15cc"
      },
      "source": [
        "Доверительный интервал Уилсона всё еще не будет давать нужного уровня значимости из-за огромной ширины. Нам нужен какой-то способ уменьшить дисперсию. Это можно сделать с помощью машинного обучения."
      ]
    },
    {
      "cell_type": "markdown",
      "id": "34073630",
      "metadata": {
        "id": "34073630"
      },
      "source": [
        "#### 7. Уменьшение дисперсии с помощью машинного обучения\n",
        "\n",
        "Этот раздел вам нужно просто проичитать. Вы уже достаточно настрадались, решая пункты выше.\n",
        "\n",
        "Когда для маленькая, дисперсия оценки доли будет довольно высокой. Относительная ошибка в оценке быстро растёт при уменьшении доли размечаемых видосов, содержащих спам\n",
        "\n",
        "$$\n",
        "\\frac{\\sigma}{p_{\\text{bad}}} \\approx \\frac{\\sqrt{ p_{\\text{bad}} \\cdot (1 -  p_{\\text{bad}})/n} }{ p_{\\text{bad}} } \\approx \\frac{1}{\\sqrt{n \\cdot p_{\\text{bad}}}}.\n",
        "$$\n",
        "\n",
        "Например, если реальная доля показов, содержащих спам составляет $0.5\\%,$ то при разметке выборки из $1000$ видео стандартное отклонение составить $0.22\\%$ и положительную метку будут обычно получать $3-7$ видео, а наша оценка доли спама будет колебаться в пределах $(0.5 \\pm 0.22)\\%.$ При таком уровне шума отслеживать эффект от введения различных улучшений в пайплайнах модерации становится практически невозможно.\n",
        "\n",
        "Однако, если бы у нас существовал способ повысить долю просэмплированных видео с положительной разметкой в сто раз, то мы бы получили оценку доли плохого в сэмпле равную $(50 \\pm 1.6)\\%.$\n",
        "\n",
        "Принимая во внимание, что при построении сэмпла мы завысили долю плохого в сто раз, получаем, что реальная доля плохого составит  $(0.5 \\pm 0.016)\\%.$ То есть с помощью приоритизации мы могли бы снизить разброс примерно в $14$ раз.\n",
        "\n",
        "На практике мы не можем заранее угадать какие видео будут размечены как плохие. Однако у нас есть ML-модели, предсказываютщие подозрительность видео. Например, вероятность того, что видос относится к плохому классу, $\\text{score}(v_i)$.\n",
        "\n",
        "Для того, чтобы сделать размечаемую выборку более представительной по классам, но при этом сохранить репрезентативность по потоку, повысим вероятность сэмплирования видео с высоким уровнем подозрительности.\n",
        "\n",
        "Чтобы после этого по разметке сэмпла оценить долю плохого на потоке, нам нужно обратно изменить веса видео, чтобы величины соотвествовали ожидаемым значениям без перевзвешивания. Новые веса в формуле будут равны\n",
        "\n",
        "$$\n",
        "c_i = \\sum_{i=1}^n  \\frac{1 + q_i \\cdot \\left( \\sum_{j=i}^{n-1} \\frac{1}{1 - \\sum_{k=1}^j q_k}\\right)}{\\text{score}(v_i)}, \\quad q_i = \\frac{\\text{show}(v_i)}{\\sum_{j=1}^{|V|} \\text{show}(v_j)}\n",
        "$$\n",
        "\n",
        "Оценка доли будет искаться как\n",
        "\n",
        "$$\n",
        "\\hat p_{spam} = \\frac{\\sum_{i=1}^n c_i \\cdot \\text{isSpam}(v_i)}{\\sum_{i=1}^n c_i}.\n",
        "$$\n",
        "\n",
        "Аналогично дисперсия такой оценки будет иметь вид\n",
        "\n",
        "$$\n",
        "\\text{Var}(\\hat p_{\\text{bad}}) = \\frac{\\sum_{i=1}^n c^2_i \\cdot \\text{Var}(\\text{isSpam}(v_i))}{\\left(\\sum_{i=1}^n c_i\\right)^2}.\n",
        "$$\n",
        "\n",
        "В формуле дисперсии $\\text{Var}(\\text{isSpam}(v_i))$ уже нельзя считать одинаковыми, так как есть зависимость между весом объекта, обусловленным $score(v_i)$ и дисперсией бернулиевской случайной величины $\\text{isSpam}(v_i).$\n",
        "\n",
        "Если предсказывающая модель обучена в точности на реальном распределении, наблюдаемом в потоке, то можно считать, что $\\text{score}(v_i) = \\mathbb{P}(\\text{isSpam}(v_i) = 1).$\n",
        "\n",
        "Тогда\n",
        "\n",
        "$$\n",
        "\\text{Var}(\\text{isSpam}(v_i)) = \\mathbb{P}(\\text{isSpam}(v_i) = 1) \\cdot \\mathbb{P}(\\text{isSpam}(v_i) = 0) = \\text{score}(v_i) \\cdot (1 - \\text{score}(v_i)).\n",
        "$$\n",
        "\n",
        "Модель должна быть в таком случае [откалибрована.](https://github.com/esokolov/ml-course-hse/blob/master/2022-fall/seminars/sem06-calibration.ipynb)\n",
        "\n",
        "Если откалибровать модель не представляется возможным,тогда можно оценить математическое ожидание и дисперсию элемента на основе исторических данных по разметке элементов с похожими предсказаниями модели.\n",
        "\n",
        "Если для какого-то объекта по каким-то причинам отсутствует $\\text{score}(v_i),$ то при сэмплировании мы можем вставить ему произвольный вес и использовать верхнюю оценку на дисперсию бернуллиевской случайной величины, $\\text{Var}(\\text{isSpam}(v_i)) \\le 0.25.$"
      ]
    }
  ],
  "metadata": {
    "kernelspec": {
      "display_name": "Python 3",
      "language": "python",
      "name": "python3"
    },
    "language_info": {
      "codemirror_mode": {
        "name": "ipython",
        "version": 3
      },
      "file_extension": ".py",
      "mimetype": "text/x-python",
      "name": "python",
      "nbconvert_exporter": "python",
      "pygments_lexer": "ipython3",
      "version": "3.11.6"
    },
    "colab": {
      "provenance": []
    },
    "widgets": {
      "application/vnd.jupyter.widget-state+json": {
        "38d148cfb35748d79ade4a678f999ca3": {
          "model_module": "@jupyter-widgets/controls",
          "model_name": "HBoxModel",
          "model_module_version": "1.5.0",
          "state": {
            "_dom_classes": [],
            "_model_module": "@jupyter-widgets/controls",
            "_model_module_version": "1.5.0",
            "_model_name": "HBoxModel",
            "_view_count": null,
            "_view_module": "@jupyter-widgets/controls",
            "_view_module_version": "1.5.0",
            "_view_name": "HBoxView",
            "box_style": "",
            "children": [
              "IPY_MODEL_c9d51beca8cd476087ab68056c9fa823",
              "IPY_MODEL_2c49fc1df4214241a1b9d8babf727719",
              "IPY_MODEL_10d2af8478f6408b91b0d41dd890db5d"
            ],
            "layout": "IPY_MODEL_05b89279137f45a3968bb886a7e6d7d0"
          }
        },
        "c9d51beca8cd476087ab68056c9fa823": {
          "model_module": "@jupyter-widgets/controls",
          "model_name": "HTMLModel",
          "model_module_version": "1.5.0",
          "state": {
            "_dom_classes": [],
            "_model_module": "@jupyter-widgets/controls",
            "_model_module_version": "1.5.0",
            "_model_name": "HTMLModel",
            "_view_count": null,
            "_view_module": "@jupyter-widgets/controls",
            "_view_module_version": "1.5.0",
            "_view_name": "HTMLView",
            "description": "",
            "description_tooltip": null,
            "layout": "IPY_MODEL_cdfad13f782941059f95d8bfe9615d83",
            "placeholder": "​",
            "style": "IPY_MODEL_b594d451850b4b2681f8daffd0256a9d",
            "value": "100%"
          }
        },
        "2c49fc1df4214241a1b9d8babf727719": {
          "model_module": "@jupyter-widgets/controls",
          "model_name": "FloatProgressModel",
          "model_module_version": "1.5.0",
          "state": {
            "_dom_classes": [],
            "_model_module": "@jupyter-widgets/controls",
            "_model_module_version": "1.5.0",
            "_model_name": "FloatProgressModel",
            "_view_count": null,
            "_view_module": "@jupyter-widgets/controls",
            "_view_module_version": "1.5.0",
            "_view_name": "ProgressView",
            "bar_style": "success",
            "description": "",
            "description_tooltip": null,
            "layout": "IPY_MODEL_149d87c1df28425ba320538d5ec9c068",
            "max": 10000,
            "min": 0,
            "orientation": "horizontal",
            "style": "IPY_MODEL_7e82fd703fdc4720a59e976422fcbbfa",
            "value": 10000
          }
        },
        "10d2af8478f6408b91b0d41dd890db5d": {
          "model_module": "@jupyter-widgets/controls",
          "model_name": "HTMLModel",
          "model_module_version": "1.5.0",
          "state": {
            "_dom_classes": [],
            "_model_module": "@jupyter-widgets/controls",
            "_model_module_version": "1.5.0",
            "_model_name": "HTMLModel",
            "_view_count": null,
            "_view_module": "@jupyter-widgets/controls",
            "_view_module_version": "1.5.0",
            "_view_name": "HTMLView",
            "description": "",
            "description_tooltip": null,
            "layout": "IPY_MODEL_84d7c752312145468c66381d25476fde",
            "placeholder": "​",
            "style": "IPY_MODEL_0d447fd5edf5486b83e363d7fb776b41",
            "value": " 10000/10000 [00:18&lt;00:00, 641.47it/s]"
          }
        },
        "05b89279137f45a3968bb886a7e6d7d0": {
          "model_module": "@jupyter-widgets/base",
          "model_name": "LayoutModel",
          "model_module_version": "1.2.0",
          "state": {
            "_model_module": "@jupyter-widgets/base",
            "_model_module_version": "1.2.0",
            "_model_name": "LayoutModel",
            "_view_count": null,
            "_view_module": "@jupyter-widgets/base",
            "_view_module_version": "1.2.0",
            "_view_name": "LayoutView",
            "align_content": null,
            "align_items": null,
            "align_self": null,
            "border": null,
            "bottom": null,
            "display": null,
            "flex": null,
            "flex_flow": null,
            "grid_area": null,
            "grid_auto_columns": null,
            "grid_auto_flow": null,
            "grid_auto_rows": null,
            "grid_column": null,
            "grid_gap": null,
            "grid_row": null,
            "grid_template_areas": null,
            "grid_template_columns": null,
            "grid_template_rows": null,
            "height": null,
            "justify_content": null,
            "justify_items": null,
            "left": null,
            "margin": null,
            "max_height": null,
            "max_width": null,
            "min_height": null,
            "min_width": null,
            "object_fit": null,
            "object_position": null,
            "order": null,
            "overflow": null,
            "overflow_x": null,
            "overflow_y": null,
            "padding": null,
            "right": null,
            "top": null,
            "visibility": null,
            "width": null
          }
        },
        "cdfad13f782941059f95d8bfe9615d83": {
          "model_module": "@jupyter-widgets/base",
          "model_name": "LayoutModel",
          "model_module_version": "1.2.0",
          "state": {
            "_model_module": "@jupyter-widgets/base",
            "_model_module_version": "1.2.0",
            "_model_name": "LayoutModel",
            "_view_count": null,
            "_view_module": "@jupyter-widgets/base",
            "_view_module_version": "1.2.0",
            "_view_name": "LayoutView",
            "align_content": null,
            "align_items": null,
            "align_self": null,
            "border": null,
            "bottom": null,
            "display": null,
            "flex": null,
            "flex_flow": null,
            "grid_area": null,
            "grid_auto_columns": null,
            "grid_auto_flow": null,
            "grid_auto_rows": null,
            "grid_column": null,
            "grid_gap": null,
            "grid_row": null,
            "grid_template_areas": null,
            "grid_template_columns": null,
            "grid_template_rows": null,
            "height": null,
            "justify_content": null,
            "justify_items": null,
            "left": null,
            "margin": null,
            "max_height": null,
            "max_width": null,
            "min_height": null,
            "min_width": null,
            "object_fit": null,
            "object_position": null,
            "order": null,
            "overflow": null,
            "overflow_x": null,
            "overflow_y": null,
            "padding": null,
            "right": null,
            "top": null,
            "visibility": null,
            "width": null
          }
        },
        "b594d451850b4b2681f8daffd0256a9d": {
          "model_module": "@jupyter-widgets/controls",
          "model_name": "DescriptionStyleModel",
          "model_module_version": "1.5.0",
          "state": {
            "_model_module": "@jupyter-widgets/controls",
            "_model_module_version": "1.5.0",
            "_model_name": "DescriptionStyleModel",
            "_view_count": null,
            "_view_module": "@jupyter-widgets/base",
            "_view_module_version": "1.2.0",
            "_view_name": "StyleView",
            "description_width": ""
          }
        },
        "149d87c1df28425ba320538d5ec9c068": {
          "model_module": "@jupyter-widgets/base",
          "model_name": "LayoutModel",
          "model_module_version": "1.2.0",
          "state": {
            "_model_module": "@jupyter-widgets/base",
            "_model_module_version": "1.2.0",
            "_model_name": "LayoutModel",
            "_view_count": null,
            "_view_module": "@jupyter-widgets/base",
            "_view_module_version": "1.2.0",
            "_view_name": "LayoutView",
            "align_content": null,
            "align_items": null,
            "align_self": null,
            "border": null,
            "bottom": null,
            "display": null,
            "flex": null,
            "flex_flow": null,
            "grid_area": null,
            "grid_auto_columns": null,
            "grid_auto_flow": null,
            "grid_auto_rows": null,
            "grid_column": null,
            "grid_gap": null,
            "grid_row": null,
            "grid_template_areas": null,
            "grid_template_columns": null,
            "grid_template_rows": null,
            "height": null,
            "justify_content": null,
            "justify_items": null,
            "left": null,
            "margin": null,
            "max_height": null,
            "max_width": null,
            "min_height": null,
            "min_width": null,
            "object_fit": null,
            "object_position": null,
            "order": null,
            "overflow": null,
            "overflow_x": null,
            "overflow_y": null,
            "padding": null,
            "right": null,
            "top": null,
            "visibility": null,
            "width": null
          }
        },
        "7e82fd703fdc4720a59e976422fcbbfa": {
          "model_module": "@jupyter-widgets/controls",
          "model_name": "ProgressStyleModel",
          "model_module_version": "1.5.0",
          "state": {
            "_model_module": "@jupyter-widgets/controls",
            "_model_module_version": "1.5.0",
            "_model_name": "ProgressStyleModel",
            "_view_count": null,
            "_view_module": "@jupyter-widgets/base",
            "_view_module_version": "1.2.0",
            "_view_name": "StyleView",
            "bar_color": null,
            "description_width": ""
          }
        },
        "84d7c752312145468c66381d25476fde": {
          "model_module": "@jupyter-widgets/base",
          "model_name": "LayoutModel",
          "model_module_version": "1.2.0",
          "state": {
            "_model_module": "@jupyter-widgets/base",
            "_model_module_version": "1.2.0",
            "_model_name": "LayoutModel",
            "_view_count": null,
            "_view_module": "@jupyter-widgets/base",
            "_view_module_version": "1.2.0",
            "_view_name": "LayoutView",
            "align_content": null,
            "align_items": null,
            "align_self": null,
            "border": null,
            "bottom": null,
            "display": null,
            "flex": null,
            "flex_flow": null,
            "grid_area": null,
            "grid_auto_columns": null,
            "grid_auto_flow": null,
            "grid_auto_rows": null,
            "grid_column": null,
            "grid_gap": null,
            "grid_row": null,
            "grid_template_areas": null,
            "grid_template_columns": null,
            "grid_template_rows": null,
            "height": null,
            "justify_content": null,
            "justify_items": null,
            "left": null,
            "margin": null,
            "max_height": null,
            "max_width": null,
            "min_height": null,
            "min_width": null,
            "object_fit": null,
            "object_position": null,
            "order": null,
            "overflow": null,
            "overflow_x": null,
            "overflow_y": null,
            "padding": null,
            "right": null,
            "top": null,
            "visibility": null,
            "width": null
          }
        },
        "0d447fd5edf5486b83e363d7fb776b41": {
          "model_module": "@jupyter-widgets/controls",
          "model_name": "DescriptionStyleModel",
          "model_module_version": "1.5.0",
          "state": {
            "_model_module": "@jupyter-widgets/controls",
            "_model_module_version": "1.5.0",
            "_model_name": "DescriptionStyleModel",
            "_view_count": null,
            "_view_module": "@jupyter-widgets/base",
            "_view_module_version": "1.2.0",
            "_view_name": "StyleView",
            "description_width": ""
          }
        },
        "fa050f56ac8a4d2dbe39f616b65d0d81": {
          "model_module": "@jupyter-widgets/controls",
          "model_name": "HBoxModel",
          "model_module_version": "1.5.0",
          "state": {
            "_dom_classes": [],
            "_model_module": "@jupyter-widgets/controls",
            "_model_module_version": "1.5.0",
            "_model_name": "HBoxModel",
            "_view_count": null,
            "_view_module": "@jupyter-widgets/controls",
            "_view_module_version": "1.5.0",
            "_view_name": "HBoxView",
            "box_style": "",
            "children": [
              "IPY_MODEL_2532d8f8a8714e0ea96e5851479f7ffd",
              "IPY_MODEL_a336a5e6374c48c98144492050cf4817",
              "IPY_MODEL_3b755240fc0049bf93bffb388d370538"
            ],
            "layout": "IPY_MODEL_66c45b85aaa54530b39301391e654588"
          }
        },
        "2532d8f8a8714e0ea96e5851479f7ffd": {
          "model_module": "@jupyter-widgets/controls",
          "model_name": "HTMLModel",
          "model_module_version": "1.5.0",
          "state": {
            "_dom_classes": [],
            "_model_module": "@jupyter-widgets/controls",
            "_model_module_version": "1.5.0",
            "_model_name": "HTMLModel",
            "_view_count": null,
            "_view_module": "@jupyter-widgets/controls",
            "_view_module_version": "1.5.0",
            "_view_name": "HTMLView",
            "description": "",
            "description_tooltip": null,
            "layout": "IPY_MODEL_5845173f8b9945569565b76d17b5f1fb",
            "placeholder": "​",
            "style": "IPY_MODEL_14b8252c2a244befa959638bf716fad7",
            "value": "100%"
          }
        },
        "a336a5e6374c48c98144492050cf4817": {
          "model_module": "@jupyter-widgets/controls",
          "model_name": "FloatProgressModel",
          "model_module_version": "1.5.0",
          "state": {
            "_dom_classes": [],
            "_model_module": "@jupyter-widgets/controls",
            "_model_module_version": "1.5.0",
            "_model_name": "FloatProgressModel",
            "_view_count": null,
            "_view_module": "@jupyter-widgets/controls",
            "_view_module_version": "1.5.0",
            "_view_name": "ProgressView",
            "bar_style": "success",
            "description": "",
            "description_tooltip": null,
            "layout": "IPY_MODEL_ba9efd5ee8a441298cb1c07451d84d2e",
            "max": 10000,
            "min": 0,
            "orientation": "horizontal",
            "style": "IPY_MODEL_0617efecdeaa43799aac31dc035b54db",
            "value": 10000
          }
        },
        "3b755240fc0049bf93bffb388d370538": {
          "model_module": "@jupyter-widgets/controls",
          "model_name": "HTMLModel",
          "model_module_version": "1.5.0",
          "state": {
            "_dom_classes": [],
            "_model_module": "@jupyter-widgets/controls",
            "_model_module_version": "1.5.0",
            "_model_name": "HTMLModel",
            "_view_count": null,
            "_view_module": "@jupyter-widgets/controls",
            "_view_module_version": "1.5.0",
            "_view_name": "HTMLView",
            "description": "",
            "description_tooltip": null,
            "layout": "IPY_MODEL_6709303be92b4f66a682f3541688c9be",
            "placeholder": "​",
            "style": "IPY_MODEL_3322d9beffbd486bbdcecda3298758c0",
            "value": " 10000/10000 [02:40&lt;00:00, 64.68it/s]"
          }
        },
        "66c45b85aaa54530b39301391e654588": {
          "model_module": "@jupyter-widgets/base",
          "model_name": "LayoutModel",
          "model_module_version": "1.2.0",
          "state": {
            "_model_module": "@jupyter-widgets/base",
            "_model_module_version": "1.2.0",
            "_model_name": "LayoutModel",
            "_view_count": null,
            "_view_module": "@jupyter-widgets/base",
            "_view_module_version": "1.2.0",
            "_view_name": "LayoutView",
            "align_content": null,
            "align_items": null,
            "align_self": null,
            "border": null,
            "bottom": null,
            "display": null,
            "flex": null,
            "flex_flow": null,
            "grid_area": null,
            "grid_auto_columns": null,
            "grid_auto_flow": null,
            "grid_auto_rows": null,
            "grid_column": null,
            "grid_gap": null,
            "grid_row": null,
            "grid_template_areas": null,
            "grid_template_columns": null,
            "grid_template_rows": null,
            "height": null,
            "justify_content": null,
            "justify_items": null,
            "left": null,
            "margin": null,
            "max_height": null,
            "max_width": null,
            "min_height": null,
            "min_width": null,
            "object_fit": null,
            "object_position": null,
            "order": null,
            "overflow": null,
            "overflow_x": null,
            "overflow_y": null,
            "padding": null,
            "right": null,
            "top": null,
            "visibility": null,
            "width": null
          }
        },
        "5845173f8b9945569565b76d17b5f1fb": {
          "model_module": "@jupyter-widgets/base",
          "model_name": "LayoutModel",
          "model_module_version": "1.2.0",
          "state": {
            "_model_module": "@jupyter-widgets/base",
            "_model_module_version": "1.2.0",
            "_model_name": "LayoutModel",
            "_view_count": null,
            "_view_module": "@jupyter-widgets/base",
            "_view_module_version": "1.2.0",
            "_view_name": "LayoutView",
            "align_content": null,
            "align_items": null,
            "align_self": null,
            "border": null,
            "bottom": null,
            "display": null,
            "flex": null,
            "flex_flow": null,
            "grid_area": null,
            "grid_auto_columns": null,
            "grid_auto_flow": null,
            "grid_auto_rows": null,
            "grid_column": null,
            "grid_gap": null,
            "grid_row": null,
            "grid_template_areas": null,
            "grid_template_columns": null,
            "grid_template_rows": null,
            "height": null,
            "justify_content": null,
            "justify_items": null,
            "left": null,
            "margin": null,
            "max_height": null,
            "max_width": null,
            "min_height": null,
            "min_width": null,
            "object_fit": null,
            "object_position": null,
            "order": null,
            "overflow": null,
            "overflow_x": null,
            "overflow_y": null,
            "padding": null,
            "right": null,
            "top": null,
            "visibility": null,
            "width": null
          }
        },
        "14b8252c2a244befa959638bf716fad7": {
          "model_module": "@jupyter-widgets/controls",
          "model_name": "DescriptionStyleModel",
          "model_module_version": "1.5.0",
          "state": {
            "_model_module": "@jupyter-widgets/controls",
            "_model_module_version": "1.5.0",
            "_model_name": "DescriptionStyleModel",
            "_view_count": null,
            "_view_module": "@jupyter-widgets/base",
            "_view_module_version": "1.2.0",
            "_view_name": "StyleView",
            "description_width": ""
          }
        },
        "ba9efd5ee8a441298cb1c07451d84d2e": {
          "model_module": "@jupyter-widgets/base",
          "model_name": "LayoutModel",
          "model_module_version": "1.2.0",
          "state": {
            "_model_module": "@jupyter-widgets/base",
            "_model_module_version": "1.2.0",
            "_model_name": "LayoutModel",
            "_view_count": null,
            "_view_module": "@jupyter-widgets/base",
            "_view_module_version": "1.2.0",
            "_view_name": "LayoutView",
            "align_content": null,
            "align_items": null,
            "align_self": null,
            "border": null,
            "bottom": null,
            "display": null,
            "flex": null,
            "flex_flow": null,
            "grid_area": null,
            "grid_auto_columns": null,
            "grid_auto_flow": null,
            "grid_auto_rows": null,
            "grid_column": null,
            "grid_gap": null,
            "grid_row": null,
            "grid_template_areas": null,
            "grid_template_columns": null,
            "grid_template_rows": null,
            "height": null,
            "justify_content": null,
            "justify_items": null,
            "left": null,
            "margin": null,
            "max_height": null,
            "max_width": null,
            "min_height": null,
            "min_width": null,
            "object_fit": null,
            "object_position": null,
            "order": null,
            "overflow": null,
            "overflow_x": null,
            "overflow_y": null,
            "padding": null,
            "right": null,
            "top": null,
            "visibility": null,
            "width": null
          }
        },
        "0617efecdeaa43799aac31dc035b54db": {
          "model_module": "@jupyter-widgets/controls",
          "model_name": "ProgressStyleModel",
          "model_module_version": "1.5.0",
          "state": {
            "_model_module": "@jupyter-widgets/controls",
            "_model_module_version": "1.5.0",
            "_model_name": "ProgressStyleModel",
            "_view_count": null,
            "_view_module": "@jupyter-widgets/base",
            "_view_module_version": "1.2.0",
            "_view_name": "StyleView",
            "bar_color": null,
            "description_width": ""
          }
        },
        "6709303be92b4f66a682f3541688c9be": {
          "model_module": "@jupyter-widgets/base",
          "model_name": "LayoutModel",
          "model_module_version": "1.2.0",
          "state": {
            "_model_module": "@jupyter-widgets/base",
            "_model_module_version": "1.2.0",
            "_model_name": "LayoutModel",
            "_view_count": null,
            "_view_module": "@jupyter-widgets/base",
            "_view_module_version": "1.2.0",
            "_view_name": "LayoutView",
            "align_content": null,
            "align_items": null,
            "align_self": null,
            "border": null,
            "bottom": null,
            "display": null,
            "flex": null,
            "flex_flow": null,
            "grid_area": null,
            "grid_auto_columns": null,
            "grid_auto_flow": null,
            "grid_auto_rows": null,
            "grid_column": null,
            "grid_gap": null,
            "grid_row": null,
            "grid_template_areas": null,
            "grid_template_columns": null,
            "grid_template_rows": null,
            "height": null,
            "justify_content": null,
            "justify_items": null,
            "left": null,
            "margin": null,
            "max_height": null,
            "max_width": null,
            "min_height": null,
            "min_width": null,
            "object_fit": null,
            "object_position": null,
            "order": null,
            "overflow": null,
            "overflow_x": null,
            "overflow_y": null,
            "padding": null,
            "right": null,
            "top": null,
            "visibility": null,
            "width": null
          }
        },
        "3322d9beffbd486bbdcecda3298758c0": {
          "model_module": "@jupyter-widgets/controls",
          "model_name": "DescriptionStyleModel",
          "model_module_version": "1.5.0",
          "state": {
            "_model_module": "@jupyter-widgets/controls",
            "_model_module_version": "1.5.0",
            "_model_name": "DescriptionStyleModel",
            "_view_count": null,
            "_view_module": "@jupyter-widgets/base",
            "_view_module_version": "1.2.0",
            "_view_name": "StyleView",
            "description_width": ""
          }
        },
        "52d5697473b647818a24aa9c948e1f09": {
          "model_module": "@jupyter-widgets/controls",
          "model_name": "HBoxModel",
          "model_module_version": "1.5.0",
          "state": {
            "_dom_classes": [],
            "_model_module": "@jupyter-widgets/controls",
            "_model_module_version": "1.5.0",
            "_model_name": "HBoxModel",
            "_view_count": null,
            "_view_module": "@jupyter-widgets/controls",
            "_view_module_version": "1.5.0",
            "_view_name": "HBoxView",
            "box_style": "",
            "children": [
              "IPY_MODEL_36687560411444b5bf2bbc06969a26c7",
              "IPY_MODEL_73c1d923b6534614bb078680ab2992cf",
              "IPY_MODEL_307d964beca14438885c5fbbdc683a98"
            ],
            "layout": "IPY_MODEL_040ff3e76c424e8888c426dd0f672242"
          }
        },
        "36687560411444b5bf2bbc06969a26c7": {
          "model_module": "@jupyter-widgets/controls",
          "model_name": "HTMLModel",
          "model_module_version": "1.5.0",
          "state": {
            "_dom_classes": [],
            "_model_module": "@jupyter-widgets/controls",
            "_model_module_version": "1.5.0",
            "_model_name": "HTMLModel",
            "_view_count": null,
            "_view_module": "@jupyter-widgets/controls",
            "_view_module_version": "1.5.0",
            "_view_name": "HTMLView",
            "description": "",
            "description_tooltip": null,
            "layout": "IPY_MODEL_a4e1c0ef3cec4657a0fb62c5edffdfba",
            "placeholder": "​",
            "style": "IPY_MODEL_782b25fc6d1842b9a20eccb45cf15d91",
            "value": "100%"
          }
        },
        "73c1d923b6534614bb078680ab2992cf": {
          "model_module": "@jupyter-widgets/controls",
          "model_name": "FloatProgressModel",
          "model_module_version": "1.5.0",
          "state": {
            "_dom_classes": [],
            "_model_module": "@jupyter-widgets/controls",
            "_model_module_version": "1.5.0",
            "_model_name": "FloatProgressModel",
            "_view_count": null,
            "_view_module": "@jupyter-widgets/controls",
            "_view_module_version": "1.5.0",
            "_view_name": "ProgressView",
            "bar_style": "success",
            "description": "",
            "description_tooltip": null,
            "layout": "IPY_MODEL_a15042c06a634532b3f5f2fa09a46774",
            "max": 10000,
            "min": 0,
            "orientation": "horizontal",
            "style": "IPY_MODEL_998fffd9f8724130aeb566e07be9ef4d",
            "value": 10000
          }
        },
        "307d964beca14438885c5fbbdc683a98": {
          "model_module": "@jupyter-widgets/controls",
          "model_name": "HTMLModel",
          "model_module_version": "1.5.0",
          "state": {
            "_dom_classes": [],
            "_model_module": "@jupyter-widgets/controls",
            "_model_module_version": "1.5.0",
            "_model_name": "HTMLModel",
            "_view_count": null,
            "_view_module": "@jupyter-widgets/controls",
            "_view_module_version": "1.5.0",
            "_view_name": "HTMLView",
            "description": "",
            "description_tooltip": null,
            "layout": "IPY_MODEL_b97512199c004506bdb589a7d046fda6",
            "placeholder": "​",
            "style": "IPY_MODEL_75174df26cfa439eaa68328fa841e142",
            "value": " 10000/10000 [02:52&lt;00:00, 56.43it/s]"
          }
        },
        "040ff3e76c424e8888c426dd0f672242": {
          "model_module": "@jupyter-widgets/base",
          "model_name": "LayoutModel",
          "model_module_version": "1.2.0",
          "state": {
            "_model_module": "@jupyter-widgets/base",
            "_model_module_version": "1.2.0",
            "_model_name": "LayoutModel",
            "_view_count": null,
            "_view_module": "@jupyter-widgets/base",
            "_view_module_version": "1.2.0",
            "_view_name": "LayoutView",
            "align_content": null,
            "align_items": null,
            "align_self": null,
            "border": null,
            "bottom": null,
            "display": null,
            "flex": null,
            "flex_flow": null,
            "grid_area": null,
            "grid_auto_columns": null,
            "grid_auto_flow": null,
            "grid_auto_rows": null,
            "grid_column": null,
            "grid_gap": null,
            "grid_row": null,
            "grid_template_areas": null,
            "grid_template_columns": null,
            "grid_template_rows": null,
            "height": null,
            "justify_content": null,
            "justify_items": null,
            "left": null,
            "margin": null,
            "max_height": null,
            "max_width": null,
            "min_height": null,
            "min_width": null,
            "object_fit": null,
            "object_position": null,
            "order": null,
            "overflow": null,
            "overflow_x": null,
            "overflow_y": null,
            "padding": null,
            "right": null,
            "top": null,
            "visibility": null,
            "width": null
          }
        },
        "a4e1c0ef3cec4657a0fb62c5edffdfba": {
          "model_module": "@jupyter-widgets/base",
          "model_name": "LayoutModel",
          "model_module_version": "1.2.0",
          "state": {
            "_model_module": "@jupyter-widgets/base",
            "_model_module_version": "1.2.0",
            "_model_name": "LayoutModel",
            "_view_count": null,
            "_view_module": "@jupyter-widgets/base",
            "_view_module_version": "1.2.0",
            "_view_name": "LayoutView",
            "align_content": null,
            "align_items": null,
            "align_self": null,
            "border": null,
            "bottom": null,
            "display": null,
            "flex": null,
            "flex_flow": null,
            "grid_area": null,
            "grid_auto_columns": null,
            "grid_auto_flow": null,
            "grid_auto_rows": null,
            "grid_column": null,
            "grid_gap": null,
            "grid_row": null,
            "grid_template_areas": null,
            "grid_template_columns": null,
            "grid_template_rows": null,
            "height": null,
            "justify_content": null,
            "justify_items": null,
            "left": null,
            "margin": null,
            "max_height": null,
            "max_width": null,
            "min_height": null,
            "min_width": null,
            "object_fit": null,
            "object_position": null,
            "order": null,
            "overflow": null,
            "overflow_x": null,
            "overflow_y": null,
            "padding": null,
            "right": null,
            "top": null,
            "visibility": null,
            "width": null
          }
        },
        "782b25fc6d1842b9a20eccb45cf15d91": {
          "model_module": "@jupyter-widgets/controls",
          "model_name": "DescriptionStyleModel",
          "model_module_version": "1.5.0",
          "state": {
            "_model_module": "@jupyter-widgets/controls",
            "_model_module_version": "1.5.0",
            "_model_name": "DescriptionStyleModel",
            "_view_count": null,
            "_view_module": "@jupyter-widgets/base",
            "_view_module_version": "1.2.0",
            "_view_name": "StyleView",
            "description_width": ""
          }
        },
        "a15042c06a634532b3f5f2fa09a46774": {
          "model_module": "@jupyter-widgets/base",
          "model_name": "LayoutModel",
          "model_module_version": "1.2.0",
          "state": {
            "_model_module": "@jupyter-widgets/base",
            "_model_module_version": "1.2.0",
            "_model_name": "LayoutModel",
            "_view_count": null,
            "_view_module": "@jupyter-widgets/base",
            "_view_module_version": "1.2.0",
            "_view_name": "LayoutView",
            "align_content": null,
            "align_items": null,
            "align_self": null,
            "border": null,
            "bottom": null,
            "display": null,
            "flex": null,
            "flex_flow": null,
            "grid_area": null,
            "grid_auto_columns": null,
            "grid_auto_flow": null,
            "grid_auto_rows": null,
            "grid_column": null,
            "grid_gap": null,
            "grid_row": null,
            "grid_template_areas": null,
            "grid_template_columns": null,
            "grid_template_rows": null,
            "height": null,
            "justify_content": null,
            "justify_items": null,
            "left": null,
            "margin": null,
            "max_height": null,
            "max_width": null,
            "min_height": null,
            "min_width": null,
            "object_fit": null,
            "object_position": null,
            "order": null,
            "overflow": null,
            "overflow_x": null,
            "overflow_y": null,
            "padding": null,
            "right": null,
            "top": null,
            "visibility": null,
            "width": null
          }
        },
        "998fffd9f8724130aeb566e07be9ef4d": {
          "model_module": "@jupyter-widgets/controls",
          "model_name": "ProgressStyleModel",
          "model_module_version": "1.5.0",
          "state": {
            "_model_module": "@jupyter-widgets/controls",
            "_model_module_version": "1.5.0",
            "_model_name": "ProgressStyleModel",
            "_view_count": null,
            "_view_module": "@jupyter-widgets/base",
            "_view_module_version": "1.2.0",
            "_view_name": "StyleView",
            "bar_color": null,
            "description_width": ""
          }
        },
        "b97512199c004506bdb589a7d046fda6": {
          "model_module": "@jupyter-widgets/base",
          "model_name": "LayoutModel",
          "model_module_version": "1.2.0",
          "state": {
            "_model_module": "@jupyter-widgets/base",
            "_model_module_version": "1.2.0",
            "_model_name": "LayoutModel",
            "_view_count": null,
            "_view_module": "@jupyter-widgets/base",
            "_view_module_version": "1.2.0",
            "_view_name": "LayoutView",
            "align_content": null,
            "align_items": null,
            "align_self": null,
            "border": null,
            "bottom": null,
            "display": null,
            "flex": null,
            "flex_flow": null,
            "grid_area": null,
            "grid_auto_columns": null,
            "grid_auto_flow": null,
            "grid_auto_rows": null,
            "grid_column": null,
            "grid_gap": null,
            "grid_row": null,
            "grid_template_areas": null,
            "grid_template_columns": null,
            "grid_template_rows": null,
            "height": null,
            "justify_content": null,
            "justify_items": null,
            "left": null,
            "margin": null,
            "max_height": null,
            "max_width": null,
            "min_height": null,
            "min_width": null,
            "object_fit": null,
            "object_position": null,
            "order": null,
            "overflow": null,
            "overflow_x": null,
            "overflow_y": null,
            "padding": null,
            "right": null,
            "top": null,
            "visibility": null,
            "width": null
          }
        },
        "75174df26cfa439eaa68328fa841e142": {
          "model_module": "@jupyter-widgets/controls",
          "model_name": "DescriptionStyleModel",
          "model_module_version": "1.5.0",
          "state": {
            "_model_module": "@jupyter-widgets/controls",
            "_model_module_version": "1.5.0",
            "_model_name": "DescriptionStyleModel",
            "_view_count": null,
            "_view_module": "@jupyter-widgets/base",
            "_view_module_version": "1.2.0",
            "_view_name": "StyleView",
            "description_width": ""
          }
        }
      }
    }
  },
  "nbformat": 4,
  "nbformat_minor": 5
}